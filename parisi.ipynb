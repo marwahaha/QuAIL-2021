{
 "cells": [
  {
   "cell_type": "code",
   "execution_count": 1,
   "id": "cdd74535",
   "metadata": {},
   "outputs": [],
   "source": [
    "import numpy as np\n",
    "from scipy import stats\n",
    "import matplotlib.pyplot as plt\n",
    "from scipy.optimize import minimize\n",
    "from scipy.integrate import quad\n",
    "from scipy.special import logsumexp"
   ]
  },
  {
   "cell_type": "markdown",
   "id": "dd7a24bf",
   "metadata": {},
   "source": [
    "# Evaluating the Parisi formula for a pure p-spin glass"
   ]
  },
  {
   "cell_type": "markdown",
   "id": "04575cde",
   "metadata": {},
   "source": [
    "The goal here is to calculate the zero-temperature Parisi constant, and compare it to the maximum satisfying fraction of randomXORSAT instances."
   ]
  },
  {
   "cell_type": "markdown",
   "id": "33dd7190",
   "metadata": {},
   "source": [
    "## Using the Parisi formula"
   ]
  },
  {
   "cell_type": "markdown",
   "id": "59877e7a",
   "metadata": {},
   "source": [
    "Wei-Kuo Chen says:\n",
    "> I am not aware of numerical simulations for the Parisi constant P(K) for large K. Nevertheless, this constant can be written as the Parisi formula, which is a convex optimization problem (see Theorem 1 in https://arxiv.org/pdf/1606.05335.pdf). With this, it should be fairly easy to run a numerical simulation to approximate P(K) for large K.\n"
   ]
  },
  {
   "cell_type": "markdown",
   "id": "62ad9edf",
   "metadata": {},
   "source": [
    "Paraphrased from the linked paper:\n",
    "> We introduce the space $U$ that collects all nonnegative and nondecreasing functions $f$ on $[0,1)$ that are right continuous and satisfy $\\int_0^1 f(t)dt < \\infty$. Let's say $f$ has $k$ jumps. Then it has value $m_i$ in region $[q_i,q_{i+1})$, given $q_0 = 0$ and $q_{k+1} = 1$, where $m_i$ and $q_i$ are increasing and nonnegative. The distance metric $d$ is the integral of $f$, or equivalently, $d = \\sum_{i=0}^k m_i(q_{i+1} - q_i)$."
   ]
  },
  {
   "cell_type": "markdown",
   "id": "14e11def",
   "metadata": {},
   "source": [
    "$P(f) = \\Psi_f(0, h) - 0.5 \\int_0^1 t \\xi^{''}(t)f(t) dt$"
   ]
  },
  {
   "cell_type": "markdown",
   "id": "dd88ca2a",
   "metadata": {},
   "source": [
    "$\\xi(s) =\\sum_{p\\ge 2} c_p^2 s^p$ Where the $c_p$'s are the mixing constants (mixed vs pure spin glasses)."
   ]
  },
  {
   "cell_type": "markdown",
   "id": "73342cdd",
   "metadata": {},
   "source": [
    "$\\partial_t \\Psi_f(t,x) = -0.5\\xi^{''}(t) \n",
    "\\Big(\n",
    "\\partial_x^2 \\Psi_f(t,x) + f(t) (\\partial_x \\Psi_f(t,x))^2\n",
    "\\Big)$"
   ]
  },
  {
   "cell_type": "markdown",
   "id": "102b2e4f",
   "metadata": {},
   "source": [
    "With boundary condition: $\\Psi_f(1,x) = |x|$."
   ]
  },
  {
   "cell_type": "markdown",
   "id": "a84b5ad6",
   "metadata": {},
   "source": [
    "This can be solved recursively, by using the transformation $f(t) \\Psi = \\log \\Phi$ for a piecewise, continuous function $f$."
   ]
  },
  {
   "cell_type": "markdown",
   "id": "9ed4ab79",
   "metadata": {},
   "source": [
    "This is the coefficient $a_{\\ell} = \\sqrt{ \\xi^{'}(q_{\\ell+1}) - \\xi^{'}(q_{l}) }$"
   ]
  },
  {
   "cell_type": "code",
   "execution_count": 2,
   "id": "2ed8b4f8",
   "metadata": {},
   "outputs": [],
   "source": [
    "global k, xi, xiprime, xiprimeprime, grid, INPS, PDF_INPS"
   ]
  },
  {
   "cell_type": "code",
   "execution_count": 3,
   "id": "3d950c3d",
   "metadata": {},
   "outputs": [],
   "source": [
    "def a(qs, l):\n",
    "    return (xiprime(qs[l+1]) - xiprime(qs[l]))**0.5"
   ]
  },
  {
   "cell_type": "markdown",
   "id": "5726320b",
   "metadata": {},
   "source": [
    "Let $\\Psi_{k+1}(x) = abs(x)$.\n",
    "\n",
    "For $1\\le \\ell \\le k$, let $Exp(m_{\\ell} \\Psi_{\\ell}(x)) = \\mathbb{E}[Exp(m_{\\ell} \\Psi_{\\ell+1}(x + a_{\\ell} z) ]$, for standard Gaussian variable $z$."
   ]
  },
  {
   "cell_type": "markdown",
   "id": "f948f639",
   "metadata": {},
   "source": [
    "Let $\\Psi_0(x) = \\mathbb{E}[\\Psi_{\\ell+1}(x + a_{0} z)]$, since I let $m_0 = 0$."
   ]
  },
  {
   "cell_type": "code",
   "execution_count": 4,
   "id": "754e0df7",
   "metadata": {},
   "outputs": [],
   "source": [
    "def psi0(qs, ms):\n",
    "    a_s = np.array([a(qs, l) for l in range(len(qs)-1)])\n",
    "    start = 0\n",
    "    for i in range(len(grid)):\n",
    "        start += a_s[i]*grid[i]\n",
    "    start =  np.abs(start)\n",
    "    # 1 to k\n",
    "    for i in list(range(1, k+1))[::-1]:\n",
    "        start = logsumexp(ms[i]*start, b=PDF_INPS, axis=i)/ms[i]\n",
    "    # 0\n",
    "    start = np.sum(PDF_INPS*start, axis=0)\n",
    "    return start"
   ]
  },
  {
   "cell_type": "markdown",
   "id": "9a866091",
   "metadata": {},
   "source": [
    "The penalty term in the operator is $0.5 \\int_0^1 f(t)  t \\xi^{''}(t) dt = 0.5 \\sum_{i=0}^k \\int_{q_i}^{q_{i+1}} m_i t \\xi^{''}(t) dt$"
   ]
  },
  {
   "cell_type": "code",
   "execution_count": 5,
   "id": "cbb0b3ed",
   "metadata": {},
   "outputs": [],
   "source": [
    "def penalty(qs, ms):\n",
    "    out = 0\n",
    "    for i in range(k+1):\n",
    "        integral = quad(lambda t: t * xiprimeprime(t), qs[i], qs[i+1])[0]\n",
    "        out += ms[i] * integral\n",
    "    return 0.5 * out"
   ]
  },
  {
   "cell_type": "markdown",
   "id": "6714ada9",
   "metadata": {},
   "source": [
    "This tests the ground state energy of inputs **m**, **q**:"
   ]
  },
  {
   "cell_type": "code",
   "execution_count": 6,
   "id": "fc3c0745",
   "metadata": {},
   "outputs": [],
   "source": [
    "# the input here is a list of \"adjustments\" \n",
    "# (m_1, m_2-m_1, ...,m_k-m_{k-1}, q_1, q_2-q_1,...,q_k-q_{k-1})\n",
    "def test(inp):\n",
    "    assert len(inp) == 2*k\n",
    "    inp_qs,inp_ms= inp[:k],inp[k:]\n",
    "\n",
    "    # if bad input, return a large number\n",
    "    if np.any(np.array(inp) < 0) or sum(inp_ms) > 2 or sum(inp_qs) > 1:\n",
    "        return 10000\n",
    "\n",
    "    qs = np.array([0,*[sum(inp_qs[:i+1]) for i in range(k)],1])\n",
    "    ms = np.array([0,*[sum(inp_ms[:i+1]) for i in range(k)]])\n",
    "    output =  psi0(qs, ms) - penalty(qs, ms)\n",
    "    return output"
   ]
  },
  {
   "cell_type": "markdown",
   "id": "532fa7f6",
   "metadata": {},
   "source": [
    "## Evaluating the Parisi formula"
   ]
  },
  {
   "cell_type": "code",
   "execution_count": 7,
   "id": "1b3694e0",
   "metadata": {},
   "outputs": [
    {
     "name": "stdout",
     "output_type": "stream",
     "text": [
      "kXOR:\n",
      "p: 2 1.5304952601931465\n",
      "p: 3 1.6270851336785448\n",
      "p: 4 1.65095677619676\n",
      "p: 5 1.6592661332722143\n",
      "p: 6 1.6625547616682574\n",
      "p: 7 1.6639532758761009\n",
      "p: 8 1.6645745603634108\n",
      "p: 9 1.6648583348427453\n",
      "p: 10 1.6649903332259495\n",
      "p: 11 1.6650524923720855\n",
      "p: 12 1.6650820151058454\n",
      "p: 13 1.6650961235764488\n",
      "p: 14 1.665102896806678\n",
      "p: 15 1.6651061600814057\n",
      "p: 16 1.665107736774127\n",
      "p: 17 1.6651085003665695\n",
      "p: 18 1.6651088709123805\n",
      "p: 19 1.6651090510362145\n",
      "p: 20 1.6651091387280008\n",
      "p: 21 1.6651091814776287\n",
      "p: 22 1.665109202343281\n",
      "p: 23 1.6651092125388018\n",
      "p: 24 1.6651092175255044\n",
      "p: 25 1.6651092199668405\n",
      "p: 26 1.6651092211629788\n",
      "p: 27 1.6651092217495354\n",
      "p: 28 1.6651092220373407\n",
      "p: 29 1.6651092221786712\n",
      "p: 30 1.6651092222481054\n",
      "p: 31 1.665109222282279\n",
      "p: 32 1.6651092222990371\n",
      "p: 33 1.6651092223073007\n",
      "p: 34 1.6651092223113686\n"
     ]
    },
    {
     "data": {
      "image/png": "[encoded data removed]",
      "text/plain": [
       "<Figure size 864x1152 with 8 Axes>"
      ]
     },
     "metadata": {
      "needs_background": "light"
     },
     "output_type": "display_data"
    }
   ],
   "source": [
    "print(\"kXOR:\")\n",
    "\n",
    "# k is number of jumps\n",
    "k=1\n",
    "# if this range is too small, it fails at higher k\n",
    "INPS = np.linspace(-30,30, 1000)\n",
    "PDF_INPS = stats.norm.pdf(INPS)\n",
    "PDF_INPS = PDF_INPS/np.sum(PDF_INPS)\n",
    "assert np.allclose(sum(PDF_INPS),1), sum(PDF_INPS)\n",
    "grid = np.meshgrid(*[INPS]*(k+1), indexing='ij')\n",
    "\n",
    "# pure p-spin model; p=2 is SK model\n",
    "ps = range(2, 35)\n",
    "# if C_psq is too low, my convergence is not very good.\n",
    "C_psq = 2\n",
    "\n",
    "num_vert_plots = int(np.ceil(len(ps)/10))\n",
    "fig, axs = plt.subplots(num_vert_plots, 2, figsize=(12, 4*num_vert_plots))\n",
    "outs = []\n",
    "for idx in range(len(ps)):\n",
    "    P = ps[idx]\n",
    "    if idx % 5 == 0:\n",
    "        ax = axs[idx // 10, (idx % 10)//5]\n",
    "        ax.grid()\n",
    "    # should xi be different by 1/2 ? I've seen it both ways.\n",
    "    xi = lambda x: x**P * C_psq\n",
    "    xiprime = lambda x: P * (x**(P-1)) * C_psq\n",
    "    xiprimeprime = lambda x: P * (P-1) * (x**(P-2)) * C_psq\n",
    "    \n",
    "    # find best function from minimizer\n",
    "    best = None\n",
    "    for _ in range(1):\n",
    "        opt = minimize(test, \n",
    "                       [np.random.random()/k for _ in range(2*k)], \n",
    "                       method='Powell', \n",
    "                       options={\"xtol\": 1e-10, \"ftol\":1e-14}\n",
    "                      )\n",
    "        if not best or best.fun > opt.fun:\n",
    "            best = opt\n",
    "    print(\"p:\", P, best.fun)\n",
    "    outs.append(best.fun)\n",
    "\n",
    "    qs = np.array([0,*[sum(best.x[:k][:i+1]) for i in range(k)]])\n",
    "    ms = np.array([0,*[sum(best.x[k:][:i+1]) for i in range(k)]])\n",
    "#     print(\"qs:\", qs)\n",
    "#     print(\"ms:\", ms)\n",
    "    ax.step(qs, ms, where='post', label=\"p=\" + str(P))\n",
    "    if idx % 5 == 4:\n",
    "        ax.legend()\n",
    "\n",
    "ax.legend()\n",
    "outs = np.array(outs)"
   ]
  },
  {
   "cell_type": "markdown",
   "id": "f229c07a",
   "metadata": {},
   "source": [
    "I notice that the locations of the symmetry breaking points are often at very low values.  This may be related to the Auffinger Chen Zeng result that perturbing a solution to this variational near $1$ will reduce the energy. So perhaps perturbations very close to $0$ can also reduce the energy: https://doi.org/10.1002/cpa.21886"
   ]
  },
  {
   "cell_type": "markdown",
   "id": "02ad4683",
   "metadata": {},
   "source": [
    "## Finding the large-p limit"
   ]
  },
  {
   "cell_type": "markdown",
   "id": "b94d4ae7",
   "metadata": {},
   "source": [
    "Let's look at the constants after dividing out by $c_p$:"
   ]
  },
  {
   "cell_type": "code",
   "execution_count": 8,
   "id": "9a3064cc",
   "metadata": {},
   "outputs": [],
   "source": [
    "outs_scaled = np.array(outs)* C_psq**-0.5"
   ]
  },
  {
   "cell_type": "code",
   "execution_count": 9,
   "id": "57037ef4",
   "metadata": {},
   "outputs": [
    {
     "name": "stdout",
     "output_type": "stream",
     "text": [
      "2 1.0822235770564435\n",
      "3 1.1505229315919192\n",
      "4 1.1674027318946105\n",
      "5 1.1732783346299644\n",
      "6 1.1756037460696092\n",
      "7 1.1765926449495612\n",
      "8 1.1770319594235839\n",
      "9 1.177232618282249\n",
      "10 1.1773259552341184\n",
      "11 1.177369908387864\n",
      "12 1.1773907841131048\n",
      "13 1.1774007603083405\n",
      "14 1.1774055497053662\n",
      "15 1.177407857189055\n",
      "16 1.17740897207917\n",
      "17 1.1774095120205643\n",
      "18 1.1774097740360199\n",
      "19 1.1774099014028043\n",
      "20 1.177409963410261\n",
      "21 1.177409993638813\n",
      "22 1.1774100083930572\n",
      "23 1.177410015602379\n",
      "24 1.1774100191285104\n",
      "25 1.1774100208547955\n",
      "26 1.1774100217005932\n",
      "27 1.1774100221153512\n",
      "28 1.1774100223188604\n",
      "29 1.177410022418796\n",
      "30 1.1774100224678934\n",
      "31 1.1774100224920578\n",
      "32 1.1774100225039077\n",
      "33 1.1774100225097508\n",
      "34 1.1774100225126274\n"
     ]
    }
   ],
   "source": [
    "for p, x in zip(ps, outs_scaled):\n",
    "    print(p, x)"
   ]
  },
  {
   "cell_type": "code",
   "execution_count": 10,
   "id": "d2381a4e",
   "metadata": {},
   "outputs": [],
   "source": [
    "guess = (2*np.log(2))**0.5"
   ]
  },
  {
   "cell_type": "code",
   "execution_count": 11,
   "id": "a372e979",
   "metadata": {},
   "outputs": [
    {
     "name": "stdout",
     "output_type": "stream",
     "text": [
      "1.1774100225154747\n"
     ]
    }
   ],
   "source": [
    "print(guess)"
   ]
  },
  {
   "cell_type": "code",
   "execution_count": 12,
   "id": "97c21999",
   "metadata": {},
   "outputs": [
    {
     "data": {
      "image/png": "[encoded data removed]",
      "text/plain": [
       "<Figure size 432x288 with 1 Axes>"
      ]
     },
     "metadata": {
      "needs_background": "light"
     },
     "output_type": "display_data"
    }
   ],
   "source": [
    "plt.plot(ps, [guess]*len(ps), 'b--', \n",
    "         color='black', label=\"$\\sqrt{2 log 2}$\", alpha=0.7)\n",
    "plt.plot(ps, outs_scaled, 'g.-', ms=7,label=\"pure k-spin model\")\n",
    "plt.xlabel(\"$k$\")\n",
    "plt.ylabel(\"ground state energy density $P(k)$\")\n",
    "plt.title(\"Parisi value for the pure $k$-spin model\")\n",
    "plt.grid()\n",
    "plt.legend()\n",
    "plt.savefig('images/parisi_value.png', dpi=300)"
   ]
  },
  {
   "cell_type": "markdown",
   "id": "653aa7db",
   "metadata": {},
   "source": [
    "## Relationship with $c_{p}$"
   ]
  },
  {
   "cell_type": "markdown",
   "id": "d0995815",
   "metadata": {},
   "source": [
    "I ran the above several times for different $c_p$. \n",
    "The asymptotic value seems to depend on the constant I use. If $c_p^2 < 2 log(2)$, The energy is $log(2) + c_p^2 / 2$. Otherwise, the energy is $\\sqrt{ 2 c_p^2 log(2)}$."
   ]
  },
  {
   "cell_type": "code",
   "execution_count": 13,
   "id": "79d1dba8",
   "metadata": {},
   "outputs": [
    {
     "data": {
      "text/plain": [
       "Text(0, 0.5, '$energy / C_p$')"
      ]
     },
     "execution_count": 13,
     "metadata": {},
     "output_type": "execute_result"
    },
    {
     "data": {
      "image/png": "[encoded data removed]",
      "text/plain": [
       "<Figure size 432x288 with 1 Axes>"
      ]
     },
     "metadata": {
      "needs_background": "light"
     },
     "output_type": "display_data"
    }
   ],
   "source": [
    "# this is what I observed after running for many different c_p^2\n",
    "inps = np.linspace(1e-10, 5, 100000)\n",
    "f1 = lambda x: x**-0.5 * (np.log(2) + x/2)\n",
    "f2 = lambda x: x**-0.5 * (2 * x * np.log(2))**0.5\n",
    "\n",
    "plt.plot(inps, [f1(i) if i < 2*np.log(2) else f2(i) for i in inps], \n",
    "         label='i observed this scaling',\n",
    "         linewidth=8, alpha=0.3, color='black')\n",
    "plt.plot(inps, f1(inps), label='$log 2/C_p +C_p/2$', linewidth=2)\n",
    "plt.plot(inps, f2(inps), label='$\\sqrt{2 log 2}$', linewidth=2)\n",
    "# plt.plot(inps, inps**0.5, label='sqrt(x) (expected scaling)', linewidth=2)\n",
    "plt.legend()\n",
    "plt.grid()\n",
    "plt.ylim(0,5)\n",
    "plt.xlabel('$C_p^2$')\n",
    "plt.ylabel(\"$energy / C_p$\")"
   ]
  },
  {
   "cell_type": "markdown",
   "id": "13692c3c",
   "metadata": {},
   "source": [
    "The minimum energy should be proportional to $c_p$. I think this means the limit of $P(p)$ is in fact $\\sqrt{2 log 2}$.\n",
    "\n",
    "This ended up being true, because of the relationship to the random energy model."
   ]
  },
  {
   "cell_type": "markdown",
   "id": "a022bcc3",
   "metadata": {},
   "source": [
    "## Comparison with Montanari for Max 2XOR, Max 3XOR"
   ]
  },
  {
   "cell_type": "markdown",
   "id": "d0a56729",
   "metadata": {},
   "source": [
    "This also roughly matches the calculation in https://arxiv.org/pdf/2009.11481.pdf that does Max 2XOR and Max 3XOR. They get\n",
    "$$\n",
    "e_2 = 0.763168\\pm 0.000002\n",
    "$$\n",
    "and \n",
    "$$\n",
    "e_3 = 0.8132\\pm 0.0001\n",
    "$$"
   ]
  },
  {
   "cell_type": "markdown",
   "id": "1e1ec791",
   "metadata": {},
   "source": [
    "Where $e_2$ uses $\\xi(s) = s^2/2$ and $e_3$ uses $\\xi(s) = s^3/2$."
   ]
  },
  {
   "cell_type": "code",
   "execution_count": 14,
   "id": "8eb215e9",
   "metadata": {},
   "outputs": [
    {
     "name": "stdout",
     "output_type": "stream",
     "text": [
      "my result, p: 2 e_p: 0.7652476300965734\n",
      "my result, p: 3 e_p: 0.8135425668392725\n"
     ]
    }
   ],
   "source": [
    "for p, o in list(zip(ps, outs_scaled))[:2]:\n",
    "    print(\"my result, p:\", p, \"e_p:\", o * 2**-0.5)"
   ]
  },
  {
   "cell_type": "markdown",
   "id": "d7b4805b",
   "metadata": {},
   "source": [
    "The agreement gives me confidence that my approach is correct."
   ]
  },
  {
   "cell_type": "markdown",
   "id": "8bef5346",
   "metadata": {},
   "source": [
    "One way to improve my precision is to explicitly solve for the derivative, and use it in the optimization procedure (as the Montanari paper does)."
   ]
  },
  {
   "cell_type": "markdown",
   "id": "5b53f333",
   "metadata": {},
   "source": [
    "## Using the Parisi constants in Sen's Max XOR upper bound"
   ]
  },
  {
   "cell_type": "markdown",
   "id": "c3d7a692",
   "metadata": {},
   "source": [
    "I insert these values for Subhabrata Sen's bounds for Max XOR on hypergraphs, as listed here: https://doi.org/10.1002/rsa.20774\n",
    "\n",
    "The satisfying fraction for Max CUT on p-uniform hypergraphs is to first order in D: $\\frac{1}{2}+ \\frac{P_p \\sqrt{p}}{2}\\frac{1}{\\sqrt{D}}$"
   ]
  },
  {
   "cell_type": "markdown",
   "id": "2a483f29",
   "metadata": {},
   "source": [
    "This makes the satisfying fraction $\\frac{1}{2} + \\frac{C_p}{\\sqrt{D}}$, where $C_p$ is listed below:"
   ]
  },
  {
   "cell_type": "code",
   "execution_count": 15,
   "id": "2741506e",
   "metadata": {},
   "outputs": [
    {
     "name": "stdout",
     "output_type": "stream",
     "text": [
      "2 0.7652476300965734\n",
      "3 0.9963820863951478\n",
      "4 1.1674027318946105\n",
      "5 1.311765056380173\n",
      "6 1.4398146587874936\n",
      "7 1.5564857664821279\n",
      "8 1.664574560363411\n",
      "9 1.7658489274233735\n",
      "10 1.8615157834866252\n",
      "11 1.9524471127888277\n",
      "12 2.0393006584472566\n",
      "13 2.122589406531004\n",
      "14 2.202724086141858\n",
      "15 2.2800405112934854\n",
      "16 2.35481794415834\n",
      "17 2.4272918913338666\n",
      "18 2.4976633063685707\n",
      "19 2.5661053876695066\n",
      "20 2.632768715570884\n",
      "21 2.697785209923667\n",
      "22 2.761271229570316\n",
      "23 2.823330034345005\n",
      "24 2.8840537649054316\n",
      "25 2.9435250521369887\n",
      "26 3.0018183380755143\n",
      "27 3.0590009694668754\n",
      "28 3.1151341102107137\n",
      "29 3.170273508148574\n",
      "30 3.2244701436916485\n",
      "31 3.2777707818350867\n",
      "32 3.3302184445980747\n",
      "33 3.381852817484507\n",
      "34 3.4327106008899264\n"
     ]
    }
   ],
   "source": [
    "for p, x in zip(ps, outs_scaled):\n",
    "    print(p, x * p**0.5 / 2)"
   ]
  },
  {
   "cell_type": "markdown",
   "id": "ae19c4e0",
   "metadata": {},
   "source": [
    "Because of the limit, we expect a large $p$XORSAT problem to have satisfying fraction at most\n",
    "\n",
    "$$\\frac{1}{2} + \\frac{\\sqrt{2 log 2}}{2} \\sqrt{\\frac{p}{D}} = \\frac{1}{2} + \\sqrt{\\frac{p log 2}{2}} \\frac{1}{\\sqrt{D}} \\approx \\frac{1}{2} + 0.58871\\sqrt{\\frac{p}{D}}$$"
   ]
  },
  {
   "cell_type": "markdown",
   "id": "a53c24e8",
   "metadata": {},
   "source": [
    "## Bonus: Evaluating the $p$-SAT approximations"
   ]
  },
  {
   "cell_type": "markdown",
   "id": "9b7c6d01",
   "metadata": {},
   "source": [
    "A similar formula to Sen has been done by Panchenko for $p$-SAT: https://arxiv.org/pdf/1608.06256.pdf"
   ]
  },
  {
   "cell_type": "markdown",
   "id": "ee44f57c",
   "metadata": {},
   "source": [
    "Given $N$ variables and $\\alpha N$ clauses, the satisfying fraction is \n",
    "$$1-\\frac{1}{2^p} + \\frac{B_p}{2^p}\\frac{1}{\\sqrt{\\alpha}}$$"
   ]
  },
  {
   "cell_type": "markdown",
   "id": "bb421e7f",
   "metadata": {},
   "source": [
    "Where $B_p$ is the limit of a Parisi formula with $\\xi(x) = (1+x)^p - 1$."
   ]
  },
  {
   "cell_type": "code",
   "execution_count": 16,
   "id": "50be4fc5",
   "metadata": {},
   "outputs": [
    {
     "name": "stdout",
     "output_type": "stream",
     "text": [
      "kSAT:\n",
      "p: 3 1.5723564301893096\n",
      "p: 4 2.6563377699189004\n",
      "p: 5 4.135375546995508\n",
      "p: 6 6.1765044858839735\n",
      "p: 7 9.014787979614526\n",
      "p: 8 12.984351273487327\n",
      "p: 9 18.558871882750708\n",
      "CPU times: user 34.5 s, sys: 7.89 s, total: 42.4 s\n",
      "Wall time: 42.3 s\n"
     ]
    },
    {
     "data": {
      "image/png": "[encoded data removed]",
      "text/plain": [
       "<Figure size 864x288 with 2 Axes>"
      ]
     },
     "metadata": {
      "needs_background": "light"
     },
     "output_type": "display_data"
    }
   ],
   "source": [
    "%%time\n",
    "print(\"kSAT:\")\n",
    "\n",
    "ksat_ps = range(3, 10)\n",
    "\n",
    "# CONST_SQ may affect my convergence.\n",
    "CONST_SQ = 0.5\n",
    "\n",
    "num_vert_plots = int(np.ceil(len(ksat_ps)/10))\n",
    "fig, axs = plt.subplots(num_vert_plots, 2, figsize=(12, 4*num_vert_plots))\n",
    "outs = []\n",
    "for idx in range(len(ksat_ps)):\n",
    "    P = ksat_ps[idx]\n",
    "    if idx % 5 == 0:\n",
    "        ax = axs[(idx % 10) //5] #axs[idx // 10, (idx % 10)//5]\n",
    "        ax.grid()\n",
    "    # should xi be different by 1/2 ? I've seen it both ways.\n",
    "    xi = lambda x: CONST_SQ* (-1 + (1+x)**P)\n",
    "    xiprime = lambda x: CONST_SQ* P * ((1+x)**(P-1))\n",
    "    xiprimeprime = lambda x:CONST_SQ* P * (P-1) * ((1+x)**(P-2))\n",
    "    \n",
    "    # find best function from minimizer\n",
    "    best = None\n",
    "    for _ in range(1):\n",
    "        opt = minimize(test, \n",
    "                       [np.random.random()/k for _ in range(2*k)],\n",
    "                       method='Powell', \n",
    "                       options={\"ftol\":1e-14}\n",
    "                      )\n",
    "        if not best or best.fun > opt.fun:\n",
    "            best = opt\n",
    "    print(\"p:\", P, best.fun)\n",
    "    outs.append(best.fun)\n",
    "\n",
    "    qs = np.array([0,*[sum(best.x[:k][:i+1]) for i in range(k)]])\n",
    "    ms = np.array([0,*[sum(best.x[k:][:i+1]) for i in range(k)]])\n",
    "#     print(\"qs:\", qs)\n",
    "#     print(\"ms:\", ms)\n",
    "    ax.step(qs, ms, where='post', label=\"p=\" + str(P))\n",
    "    if idx % 5 == 4:\n",
    "        ax.legend()\n",
    "\n",
    "ax.legend()\n",
    "outs = np.array(outs)"
   ]
  },
  {
   "cell_type": "markdown",
   "id": "61a8a8ec",
   "metadata": {},
   "source": [
    "The constants after reducing by CONST_SQ (to help with convergence):"
   ]
  },
  {
   "cell_type": "code",
   "execution_count": 17,
   "id": "01b895c7",
   "metadata": {},
   "outputs": [],
   "source": [
    "ksats_scaled = outs * CONST_SQ**-0.5"
   ]
  },
  {
   "cell_type": "code",
   "execution_count": 18,
   "id": "4061b979",
   "metadata": {},
   "outputs": [
    {
     "name": "stdout",
     "output_type": "stream",
     "text": [
      "3 2.2236477884582664\n",
      "4 3.756628900463211\n",
      "5 5.848304184067104\n",
      "6 8.734896411995377\n",
      "7 12.748835422688817\n",
      "8 18.362645669582147\n",
      "9 26.24620831893075\n"
     ]
    }
   ],
   "source": [
    "for p,o in zip(ksat_ps, ksats_scaled):\n",
    "    print(p, o)"
   ]
  },
  {
   "cell_type": "markdown",
   "id": "de065ad3",
   "metadata": {},
   "source": [
    "I calculate $C$, where the satisfying fraction is $1-1/2^p + C/\\sqrt{\\alpha}$:"
   ]
  },
  {
   "cell_type": "code",
   "execution_count": 19,
   "id": "7d4b3b20",
   "metadata": {},
   "outputs": [
    {
     "name": "stdout",
     "output_type": "stream",
     "text": [
      "3 0.2779559735572833\n",
      "4 0.2347893062789507\n",
      "5 0.182759505752097\n",
      "6 0.13648275643742777\n",
      "7 0.09960027673975638\n",
      "8 0.07172908464680526\n",
      "9 0.051262125622911624\n"
     ]
    }
   ],
   "source": [
    "for p,o in zip(ksat_ps, ksats_scaled):\n",
    "    print(p, o*2**(-p))"
   ]
  },
  {
   "cell_type": "markdown",
   "id": "3bcabf6f",
   "metadata": {},
   "source": [
    "It would be nice to get a confirmation on this constant, but I haven't seen it calculated anywhere."
   ]
  }
 ],
 "metadata": {
  "kernelspec": {
   "display_name": "Python 3 (ipykernel)",
   "language": "python",
   "name": "python3"
  },
  "language_info": {
   "codemirror_mode": {
    "name": "ipython",
    "version": 3
   },
   "file_extension": ".py",
   "mimetype": "text/x-python",
   "name": "python",
   "nbconvert_exporter": "python",
   "pygments_lexer": "ipython3",
   "version": "3.8.8"
  }
 },
 "nbformat": 4,
 "nbformat_minor": 5
}
