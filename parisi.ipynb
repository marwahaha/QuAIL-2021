{
 "cells": [
  {
   "cell_type": "code",
   "execution_count": 1,
   "id": "ad120557",
   "metadata": {},
   "outputs": [],
   "source": [
    "import numpy as np\n",
    "from scipy import stats\n",
    "import matplotlib.pyplot as plt\n",
    "from scipy.optimize import minimize\n",
    "from scipy.integrate import quad\n",
    "from scipy.special import logsumexp\n",
    "import multiprocessing\n",
    "import time"
   ]
  },
  {
   "cell_type": "code",
   "execution_count": 2,
   "id": "8d5beec7",
   "metadata": {},
   "outputs": [
    {
     "name": "stdout",
     "output_type": "stream",
     "text": [
      "Starting time: Sat Sep 11 06:41:58 2021\n"
     ]
    }
   ],
   "source": [
    "print(\"Starting time:\", time.ctime())"
   ]
  },
  {
   "cell_type": "markdown",
   "id": "258e59b4",
   "metadata": {},
   "source": [
    "# Evaluating the Parisi formula for a pure p-spin glass"
   ]
  },
  {
   "cell_type": "markdown",
   "id": "61522052",
   "metadata": {},
   "source": [
    "The goal here is to calculate the zero-temperature Parisi constant, and compare it to the maximum satisfying fraction of randomXORSAT instances."
   ]
  },
  {
   "cell_type": "markdown",
   "id": "89198858",
   "metadata": {},
   "source": [
    "## Using the Parisi formula"
   ]
  },
  {
   "cell_type": "markdown",
   "id": "e6ca260e",
   "metadata": {},
   "source": [
    "Wei-Kuo Chen says:\n",
    "> I am not aware of numerical simulations for the Parisi constant P(K) for large K. Nevertheless, this constant can be written as the Parisi formula, which is a convex optimization problem (see Theorem 1 in https://arxiv.org/pdf/1606.05335.pdf). With this, it should be fairly easy to run a numerical simulation to approximate P(K) for large K.\n"
   ]
  },
  {
   "cell_type": "markdown",
   "id": "22d5006c",
   "metadata": {},
   "source": [
    "Paraphrased from the linked paper:\n",
    "> We introduce the space $U$ that collects all nonnegative and nondecreasing functions $f$ on $[0,1)$ that are right continuous and satisfy $\\int_0^1 f(t)dt < \\infty$. Let's say $f$ has $k$ jumps. Then it has value $m_i$ in region $[q_i,q_{i+1})$, given $q_0 = 0$ and $q_{k+1} = 1$, where $m_i$ and $q_i$ are increasing and nonnegative. The distance metric $d$ is the integral of $f$, or equivalently, $d = \\sum_{i=0}^k m_i(q_{i+1} - q_i)$."
   ]
  },
  {
   "cell_type": "markdown",
   "id": "d90969ed",
   "metadata": {},
   "source": [
    "$P(f) = \\Psi_f(0, h) - 0.5 \\int_0^1 t \\xi^{''}(t)f(t) dt$"
   ]
  },
  {
   "cell_type": "markdown",
   "id": "4469b627",
   "metadata": {},
   "source": [
    "$\\xi(s) =\\sum_{p\\ge 2} c_p^2 s^p$ Where the $c_p$'s are the mixing constants (mixed vs pure spin glasses)."
   ]
  },
  {
   "cell_type": "markdown",
   "id": "58ede3b7",
   "metadata": {},
   "source": [
    "$\\partial_t \\Psi_f(t,x) = -0.5\\xi^{''}(t) \n",
    "\\Big(\n",
    "\\partial_x^2 \\Psi_f(t,x) + f(t) (\\partial_x \\Psi_f(t,x))^2\n",
    "\\Big)$"
   ]
  },
  {
   "cell_type": "markdown",
   "id": "8f822294",
   "metadata": {},
   "source": [
    "With boundary condition: $\\Psi_f(1,x) = |x|$."
   ]
  },
  {
   "cell_type": "markdown",
   "id": "481a7980",
   "metadata": {},
   "source": [
    "This can be solved recursively, by using the transformation $f(t) \\Psi = \\log \\Phi$ for a piecewise, continuous function $f$."
   ]
  },
  {
   "cell_type": "markdown",
   "id": "93452dd4",
   "metadata": {},
   "source": [
    "This is the coefficient $a_{\\ell} = \\sqrt{ \\xi^{'}(q_{\\ell+1}) - \\xi^{'}(q_{l}) }$"
   ]
  },
  {
   "cell_type": "code",
   "execution_count": 3,
   "id": "316166fd",
   "metadata": {},
   "outputs": [],
   "source": [
    "global grid"
   ]
  },
  {
   "cell_type": "code",
   "execution_count": 4,
   "id": "aa2e381c",
   "metadata": {},
   "outputs": [],
   "source": [
    "def a(qs, l, xiprime):\n",
    "    return (xiprime(qs[l+1]) - xiprime(qs[l]))**0.5"
   ]
  },
  {
   "cell_type": "markdown",
   "id": "25992c4b",
   "metadata": {},
   "source": [
    "Let $\\Psi_{k+1}(x) = abs(x)$.\n",
    "\n",
    "For $1\\le \\ell \\le k$, let $Exp(m_{\\ell} \\Psi_{\\ell}(x)) = \\mathbb{E}[Exp(m_{\\ell} \\Psi_{\\ell+1}(x + a_{\\ell} z) ]$, for standard Gaussian variable $z$."
   ]
  },
  {
   "cell_type": "markdown",
   "id": "8c9a3ec4",
   "metadata": {},
   "source": [
    "Let $\\Psi_0(x) = \\mathbb{E}[\\Psi_{\\ell+1}(x + a_{0} z)]$, since I let $m_0 = 0$."
   ]
  },
  {
   "cell_type": "code",
   "execution_count": 5,
   "id": "59011c44",
   "metadata": {},
   "outputs": [],
   "source": [
    "def psi0(qs, ms, xiprime, k, PDF_INPS):\n",
    "    a_s = np.array([a(qs, l, xiprime) for l in range(len(qs)-1)])\n",
    "    start = 0\n",
    "    for i in range(len(grid)):\n",
    "        start += a_s[i]*grid[i]\n",
    "    start =  np.abs(start)\n",
    "    # 1 to k\n",
    "    for i in list(range(1, k+1))[::-1]:\n",
    "        start = np.log(np.sum(np.exp(ms[i]*start)*PDF_INPS, axis=i))/ms[i]\n",
    "        # scipy is slower\n",
    "        #  start = logsumexp(ms[i]*start, b=PDF_INPS, axis=i)/ms[i]\n",
    "    # 0\n",
    "    start = np.sum(PDF_INPS*start, axis=0)\n",
    "    return start"
   ]
  },
  {
   "cell_type": "markdown",
   "id": "c2cd78ec",
   "metadata": {},
   "source": [
    "The penalty term in the operator is $0.5 \\int_0^1 f(t)  t \\xi^{''}(t) dt = 0.5 \\sum_{i=0}^k \\int_{q_i}^{q_{i+1}} m_i t \\xi^{''}(t) dt$"
   ]
  },
  {
   "cell_type": "code",
   "execution_count": 6,
   "id": "7d6bebde",
   "metadata": {},
   "outputs": [],
   "source": [
    "def penalty(qs, ms, xiprimeprime, k):\n",
    "    out = 0\n",
    "    for i in range(k+1):\n",
    "        integral = quad(lambda t: t * xiprimeprime(t), qs[i], qs[i+1])[0]\n",
    "        out += ms[i] * integral\n",
    "    return 0.5 * out"
   ]
  },
  {
   "cell_type": "markdown",
   "id": "25790ede",
   "metadata": {},
   "source": [
    "This tests the ground state energy of inputs **m**, **q**:"
   ]
  },
  {
   "cell_type": "code",
   "execution_count": 7,
   "id": "4b9aaa0f",
   "metadata": {},
   "outputs": [],
   "source": [
    "def make_test(xiprime, xiprimeprime, k, PDF_INPS):\n",
    "    # the input here is a list of \"adjustments\" \n",
    "    # (m_1, m_2-m_1, ...,m_k-m_{k-1}, q_1, q_2-q_1,...,q_k-q_{k-1})\n",
    "    def test(inp):\n",
    "        assert len(inp) == 2*k\n",
    "        inp_qs,inp_ms= inp[:k],inp[k:]\n",
    "\n",
    "        # if bad input, return a large number\n",
    "        if np.any(np.array(inp) < 0) or sum(inp_ms) > 2 or sum(inp_qs) > 1:\n",
    "            return 10000\n",
    "\n",
    "        qs = np.array([0,*[sum(inp_qs[:i+1]) for i in range(k)],1])\n",
    "        ms = np.array([0,*[sum(inp_ms[:i+1]) for i in range(k)]])\n",
    "        output =  psi0(qs, ms, xiprime, k, PDF_INPS) - penalty(qs, ms, xiprimeprime, k)\n",
    "        return output\n",
    "    return test"
   ]
  },
  {
   "cell_type": "markdown",
   "id": "346bb74a",
   "metadata": {},
   "source": [
    "## Evaluating the Parisi formula"
   ]
  },
  {
   "cell_type": "code",
   "execution_count": 8,
   "id": "2904b231",
   "metadata": {},
   "outputs": [],
   "source": [
    "# set parameters\n",
    "# k is number of jumps\n",
    "k=2\n",
    "# if this range is too small, it fails at higher p\n",
    "INPS = np.linspace(-20,20,400)\n",
    "PDF_INPS = stats.norm.pdf(INPS)\n",
    "PDF_INPS = PDF_INPS/np.sum(PDF_INPS)\n",
    "assert np.allclose(sum(PDF_INPS),1), sum(PDF_INPS)\n",
    "grid = np.meshgrid(*[INPS]*(k+1), indexing='ij')"
   ]
  },
  {
   "cell_type": "code",
   "execution_count": 9,
   "id": "04ddf4ef",
   "metadata": {},
   "outputs": [],
   "source": [
    "# pure p-spin model; p=2 is SK model\n",
    "ps = range(2, 35)\n",
    "# if C_psq is too low, my convergence is not very good.\n",
    "C_psq = 2\n",
    "\n",
    "def run(P):\n",
    "#     xi = lambda x: x**P * C_psq\n",
    "    xiprime = lambda x: P * (x**(P-1)) * C_psq\n",
    "    xiprimeprime = lambda x: P * (P-1) * (x**(P-2)) * C_psq\n",
    "    opt = minimize(make_test(xiprime, xiprimeprime, k, PDF_INPS), \n",
    "                       [np.random.random()/k for _ in range(2*k)], \n",
    "                       method='Powell', \n",
    "                       options={\"xtol\": 1e-10, \"ftol\":1e-14}\n",
    "                      )\n",
    "    print(\"p:\", P, opt.fun)\n",
    "    return {\"x\": opt.x, \"fun\": opt.fun}"
   ]
  },
  {
   "cell_type": "code",
   "execution_count": 10,
   "id": "803a9799",
   "metadata": {},
   "outputs": [
    {
     "name": "stdout",
     "output_type": "stream",
     "text": [
      "kXOR:\n",
      "p: 2 1.5272160199450222\n",
      "p: 3 1.626967878475283\n",
      "p: 4 1.6509589079564133\n",
      "p: 5 1.6592794712628334\n",
      "p: 6 1.6625613990698058\n",
      "p: 7 1.6639566615410057\n",
      "p: 8 1.6645763092854464\n",
      "p: 9 1.6648592435744556\n",
      "p: 10 1.6649908063455099\n",
      "p: 11 1.665052738662153\n",
      "p: 12 1.665082143153814\n",
      "p: 13 1.665096190029601\n",
      "p: 14 1.6651029312251922\n",
      "p: 15 1.6651061778722713\n",
      "p: 16 1.6651077459526302\n",
      "p: 17 1.6651085050934427\n",
      "p: 18 1.6651088733426995\n",
      "p: 19 1.665109052283917\n",
      "p: 20 1.6651091393676811\n",
      "p: 21 1.665109181805196\n",
      "p: 22 1.6651092025108518\n",
      "p: 23 1.6651092126243832\n",
      "p: 24 1.6651092175692206\n",
      "p: 25 1.6651092199891266\n",
      "p: 26 1.6651092211743546\n",
      "p: 27 1.6651092217553192\n",
      "p: 28 1.6651092220403036\n",
      "p: 29 1.6651092221801669\n",
      "p: 30 1.6651092222488622\n",
      "p: 31 1.6651092222826307\n",
      "p: 32 1.665109222299229\n",
      "p: 33 1.6651092223073753\n",
      "p: 34 1.665109222311397\n",
      "CPU times: user 4h 47min 16s, sys: 1h 37min 14s, total: 6h 24min 30s\n",
      "Wall time: 6h 24min 33s\n"
     ]
    }
   ],
   "source": [
    "%%time\n",
    "print(\"kXOR:\")\n",
    "r = []\n",
    "for P in ps:\n",
    "    r.append(run(P))"
   ]
  },
  {
   "cell_type": "code",
   "execution_count": 11,
   "id": "f0bfca0c",
   "metadata": {},
   "outputs": [
    {
     "data": {
      "text/plain": [
       "<matplotlib.legend.Legend at 0x7f78f8ce3ac0>"
      ]
     },
     "execution_count": 11,
     "metadata": {},
     "output_type": "execute_result"
    },
    {
     "data": {
      "image/png": "[encoded data removed]",
      "text/plain": [
       "<Figure size 864x1152 with 8 Axes>"
      ]
     },
     "metadata": {
      "needs_background": "light"
     },
     "output_type": "display_data"
    }
   ],
   "source": [
    "num_vert_plots = int(np.ceil(len(ps)/10))\n",
    "fig, axs = plt.subplots(num_vert_plots, 2, figsize=(12, 4*num_vert_plots))\n",
    "\n",
    "for idx in range(len(r)):\n",
    "    P = ps[idx]\n",
    "    if idx % 5 == 0:\n",
    "        ax = axs[idx // 10, (idx % 10)//5]\n",
    "        ax.grid()\n",
    "\n",
    "    qs = np.array([0,*[sum(r[idx]['x'][:k][:i+1]) for i in range(k)]])\n",
    "    ms = np.array([0,*[sum(r[idx]['x'][k:][:i+1]) for i in range(k)]])\n",
    "    ax.step(qs, ms, where='post', label=\"p=\" + str(P))\n",
    "    if idx % 5 == 4:\n",
    "        ax.legend()\n",
    "\n",
    "ax.legend()"
   ]
  },
  {
   "cell_type": "markdown",
   "id": "ffc371ed",
   "metadata": {},
   "source": [
    "I notice that the locations of the symmetry breaking points are often at very low values.  This may be related to the Auffinger Chen Zeng result that perturbing a solution to this variational near $1$ will reduce the energy. So perhaps perturbations very close to $0$ can also reduce the energy: https://doi.org/10.1002/cpa.21886"
   ]
  },
  {
   "cell_type": "markdown",
   "id": "ce68878b",
   "metadata": {},
   "source": [
    "## Finding the large-p limit"
   ]
  },
  {
   "cell_type": "markdown",
   "id": "6c89ef5a",
   "metadata": {},
   "source": [
    "Let's look at the constants after dividing out by $c_p$:"
   ]
  },
  {
   "cell_type": "code",
   "execution_count": 12,
   "id": "6b71bba9",
   "metadata": {},
   "outputs": [],
   "source": [
    "outs = np.array([i['fun'] for i in r])\n",
    "outs_scaled = np.array(outs)* C_psq**-0.5"
   ]
  },
  {
   "cell_type": "code",
   "execution_count": 13,
   "id": "c3036855",
   "metadata": {},
   "outputs": [
    {
     "data": {
      "text/plain": [
       "1.0792825359691502"
      ]
     },
     "execution_count": 13,
     "metadata": {},
     "output_type": "execute_result"
    }
   ],
   "source": [
    "0.763168*2**0.5"
   ]
  },
  {
   "cell_type": "code",
   "execution_count": 14,
   "id": "57d165fb",
   "metadata": {},
   "outputs": [
    {
     "name": "stdout",
     "output_type": "stream",
     "text": [
      "2 1.079904804039855\n",
      "3 1.1504400196425635\n",
      "4 1.167404239276317\n",
      "5 1.1732877660135788\n",
      "6 1.1756084394212536\n",
      "7 1.1765950389761741\n",
      "8 1.177033196098215\n",
      "9 1.1772332608526037\n",
      "10 1.177326289780168\n",
      "11 1.1773700825412408\n",
      "12 1.1773908746566917\n",
      "13 1.1774008072978153\n",
      "14 1.177405574042931\n",
      "15 1.1774078697690966\n",
      "16 1.177408978569352\n",
      "17 1.1774095153629682\n",
      "18 1.177409775754515\n",
      "19 1.1774099022850633\n",
      "20 1.1774099638625835\n",
      "21 1.1774099938704379\n",
      "22 1.1774100085115475\n",
      "23 1.1774100156628942\n",
      "24 1.1774100191594223\n",
      "25 1.1774100208705542\n",
      "26 1.177410021708637\n",
      "27 1.177410022119441\n",
      "28 1.1774100223209554\n",
      "29 1.1774100224198536\n",
      "30 1.1774100224684285\n",
      "31 1.1774100224923065\n",
      "32 1.1774100225040434\n",
      "33 1.1774100225098036\n",
      "34 1.1774100225126474\n"
     ]
    }
   ],
   "source": [
    "for p, x in zip(ps, outs_scaled):\n",
    "    print(p, x)"
   ]
  },
  {
   "cell_type": "code",
   "execution_count": 15,
   "id": "baf1017b",
   "metadata": {},
   "outputs": [],
   "source": [
    "guess = (2*np.log(2))**0.5"
   ]
  },
  {
   "cell_type": "code",
   "execution_count": 16,
   "id": "b0ede645",
   "metadata": {},
   "outputs": [
    {
     "name": "stdout",
     "output_type": "stream",
     "text": [
      "1.1774100225154747\n"
     ]
    }
   ],
   "source": [
    "print(guess)"
   ]
  },
  {
   "cell_type": "code",
   "execution_count": 17,
   "id": "250287de",
   "metadata": {},
   "outputs": [
    {
     "data": {
      "image/png": "[encoded data removed]",
      "text/plain": [
       "<Figure size 432x288 with 1 Axes>"
      ]
     },
     "metadata": {
      "needs_background": "light"
     },
     "output_type": "display_data"
    }
   ],
   "source": [
    "plt.plot(ps, [guess]*len(ps), 'b--', \n",
    "         color='black', label=\"$\\sqrt{2 log 2}$\", alpha=0.7)\n",
    "plt.plot(ps, outs_scaled, 'g.-', ms=7,label=\"pure k-spin model\")\n",
    "plt.xlabel(\"$k$\")\n",
    "plt.ylabel(\"ground state energy density $P(k)$\")\n",
    "plt.title(\"Parisi value for the pure $k$-spin model\")\n",
    "plt.grid()\n",
    "plt.legend()\n",
    "plt.savefig('images/parisi_value.png', dpi=300)"
   ]
  },
  {
   "cell_type": "markdown",
   "id": "ea171296",
   "metadata": {},
   "source": [
    "## Relationship with $c_{p}$"
   ]
  },
  {
   "cell_type": "markdown",
   "id": "a387c7d1",
   "metadata": {},
   "source": [
    "I ran the above several times for different $c_p$. \n",
    "The asymptotic value seems to depend on the constant I use. If $c_p^2 < 2 log(2)$, The energy is $log(2) + c_p^2 / 2$. Otherwise, the energy is $\\sqrt{ 2 c_p^2 log(2)}$."
   ]
  },
  {
   "cell_type": "code",
   "execution_count": 18,
   "id": "93bb0eed",
   "metadata": {},
   "outputs": [
    {
     "data": {
      "text/plain": [
       "Text(0, 0.5, '$energy / C_p$')"
      ]
     },
     "execution_count": 18,
     "metadata": {},
     "output_type": "execute_result"
    },
    {
     "data": {
      "image/png": "[encoded data removed]",
      "text/plain": [
       "<Figure size 432x288 with 1 Axes>"
      ]
     },
     "metadata": {
      "needs_background": "light"
     },
     "output_type": "display_data"
    }
   ],
   "source": [
    "# this is what I observed after running for many different c_p^2\n",
    "inps = np.linspace(1e-10, 5, 100000)\n",
    "f1 = lambda x: x**-0.5 * (np.log(2) + x/2)\n",
    "f2 = lambda x: x**-0.5 * (2 * x * np.log(2))**0.5\n",
    "\n",
    "plt.plot(inps, [f1(i) if i < 2*np.log(2) else f2(i) for i in inps], \n",
    "         label='i observed this scaling',\n",
    "         linewidth=8, alpha=0.3, color='black')\n",
    "plt.plot(inps, f1(inps), label='$log 2/C_p +C_p/2$', linewidth=2)\n",
    "plt.plot(inps, f2(inps), label='$\\sqrt{2 log 2}$', linewidth=2)\n",
    "# plt.plot(inps, inps**0.5, label='sqrt(x) (expected scaling)', linewidth=2)\n",
    "plt.legend()\n",
    "plt.grid()\n",
    "plt.ylim(0,5)\n",
    "plt.xlabel('$C_p^2$')\n",
    "plt.ylabel(\"$energy / C_p$\")"
   ]
  },
  {
   "cell_type": "markdown",
   "id": "815dc426",
   "metadata": {},
   "source": [
    "The minimum energy should be proportional to $c_p$. I think this means the limit of $P(p)$ is in fact $\\sqrt{2 log 2}$.\n",
    "\n",
    "This ended up being true, because of the relationship to the random energy model."
   ]
  },
  {
   "cell_type": "markdown",
   "id": "a07d03aa",
   "metadata": {},
   "source": [
    "## Comparison with Montanari for Max 2XOR, Max 3XOR"
   ]
  },
  {
   "cell_type": "markdown",
   "id": "019b217c",
   "metadata": {},
   "source": [
    "This also roughly matches the calculation in https://arxiv.org/pdf/2009.11481.pdf that does Max 2XOR and Max 3XOR. They get\n",
    "$$\n",
    "e_2 = 0.763168\\pm 0.000002\n",
    "$$\n",
    "and \n",
    "$$\n",
    "e_3 = 0.8132\\pm 0.0001\n",
    "$$"
   ]
  },
  {
   "cell_type": "markdown",
   "id": "6e6b02c6",
   "metadata": {},
   "source": [
    "Where $e_2$ uses $\\xi(s) = s^2/2$ and $e_3$ uses $\\xi(s) = s^3/2$."
   ]
  },
  {
   "cell_type": "code",
   "execution_count": 19,
   "id": "b79296f4",
   "metadata": {},
   "outputs": [
    {
     "name": "stdout",
     "output_type": "stream",
     "text": [
      "my result, p: 2 e_p: 0.7636080099725112\n",
      "my result, p: 3 e_p: 0.8134839392376416\n"
     ]
    }
   ],
   "source": [
    "for p, o in list(zip(ps, outs_scaled))[:2]:\n",
    "    print(\"my result, p:\", p, \"e_p:\", o * 2**-0.5)"
   ]
  },
  {
   "cell_type": "markdown",
   "id": "f8c66170",
   "metadata": {},
   "source": [
    "/The agreement gives me confidence that my approach is correct."
   ]
  },
  {
   "cell_type": "markdown",
   "id": "384d333a",
   "metadata": {},
   "source": [
    "Note: This matches Table 1 in the original Parisi paper! (k=0 -> 0.798, k=1 -> 0.7652, k=2 -> 0.7636)"
   ]
  },
  {
   "cell_type": "markdown",
   "id": "ed0b0a72",
   "metadata": {},
   "source": [
    "One way to improve my precision is to explicitly solve for the derivative, and use it in the optimization procedure (as the Montanari paper does)."
   ]
  },
  {
   "cell_type": "markdown",
   "id": "a541bc6d",
   "metadata": {},
   "source": [
    "## Using the Parisi constants in Sen's Max XOR upper bound"
   ]
  },
  {
   "cell_type": "markdown",
   "id": "7e32312b",
   "metadata": {},
   "source": [
    "I insert these values for Subhabrata Sen's bounds for Max XOR on hypergraphs, as listed here: https://doi.org/10.1002/rsa.20774\n",
    "\n",
    "The satisfying fraction for Max CUT on p-uniform hypergraphs is to first order in D: $\\frac{1}{2}+ \\frac{P_p \\sqrt{p}}{2}\\frac{1}{\\sqrt{D}}$"
   ]
  },
  {
   "cell_type": "markdown",
   "id": "39ca5727",
   "metadata": {},
   "source": [
    "This makes the satisfying fraction $\\frac{1}{2} + \\frac{C_p}{\\sqrt{D}}$, where $C_p$ is listed below:"
   ]
  },
  {
   "cell_type": "code",
   "execution_count": 20,
   "id": "a5d91e87",
   "metadata": {},
   "outputs": [
    {
     "name": "stdout",
     "output_type": "stream",
     "text": [
      "2 0.7636080099725112\n",
      "3 0.9963102825407285\n",
      "4 1.167404239276317\n",
      "5 1.311775600987615\n",
      "6 1.4398204069458498\n",
      "7 1.556488933481653\n",
      "8 1.6645763092854464\n",
      "9 1.7658498912789056\n",
      "10 1.8615163124503746\n",
      "11 1.9524474015895312\n",
      "12 2.0393008152733496\n",
      "13 2.122589491242484\n",
      "14 2.2027241316732726\n",
      "15 2.2800405356546314\n",
      "16 2.354817957138704\n",
      "17 2.427291898224409\n",
      "18 2.4976633100140493\n",
      "19 2.5661053895923454\n",
      "20 2.6327687165823077\n",
      "21 2.6977852104543865\n",
      "22 2.7612712298482007\n",
      "23 2.823330034490115\n",
      "24 2.88405376498115\n",
      "25 2.9435250521763856\n",
      "26 3.001818338096022\n",
      "27 3.059000969477501\n",
      "28 3.115134110216257\n",
      "29 3.1702735081514213\n",
      "30 3.224470143693114\n",
      "31 3.277770781835779\n",
      "32 3.3302184445984584\n",
      "33 3.381852817484659\n",
      "34 3.4327106008899846\n"
     ]
    }
   ],
   "source": [
    "for p, x in zip(ps, outs_scaled):\n",
    "    print(p, x * p**0.5 / 2)"
   ]
  },
  {
   "cell_type": "markdown",
   "id": "7be8113f",
   "metadata": {},
   "source": [
    "Because of the limit, we expect a large $p$XORSAT problem to have satisfying fraction at most\n",
    "\n",
    "$$\\frac{1}{2} + \\frac{\\sqrt{2 log 2}}{2} \\sqrt{\\frac{p}{D}} = \\frac{1}{2} + \\sqrt{\\frac{p log 2}{2}} \\frac{1}{\\sqrt{D}} \\approx \\frac{1}{2} + 0.58871\\sqrt{\\frac{p}{D}}$$"
   ]
  },
  {
   "cell_type": "markdown",
   "id": "bbbd9177",
   "metadata": {},
   "source": [
    "## Bonus: Evaluating the $p$-SAT approximations"
   ]
  },
  {
   "cell_type": "markdown",
   "id": "5c19a381",
   "metadata": {},
   "source": [
    "A similar formula to Sen has been done by Panchenko for $p$-SAT: https://arxiv.org/pdf/1608.06256.pdf"
   ]
  },
  {
   "cell_type": "markdown",
   "id": "916fa1b6",
   "metadata": {},
   "source": [
    "Given $N$ variables and $\\alpha N$ clauses, the satisfying fraction is \n",
    "$$1-\\frac{1}{2^p} + \\frac{B_p}{2^p}\\frac{1}{\\sqrt{\\alpha}}$$"
   ]
  },
  {
   "cell_type": "markdown",
   "id": "daa5379b",
   "metadata": {},
   "source": [
    "Where $B_p$ is the limit of a Parisi formula with $\\xi(x) = (1+x)^p - 1$."
   ]
  },
  {
   "cell_type": "code",
   "execution_count": 21,
   "id": "e4a346d7",
   "metadata": {},
   "outputs": [],
   "source": [
    "# set parameters\n",
    "# k is number of jumps\n",
    "k=2\n",
    "# if this range is too small, it fails at higher p\n",
    "INPS = np.linspace(-30, 30, 400)\n",
    "PDF_INPS = stats.norm.pdf(INPS)\n",
    "PDF_INPS = PDF_INPS/np.sum(PDF_INPS)\n",
    "assert np.allclose(sum(PDF_INPS),1), sum(PDF_INPS)\n",
    "grid = np.meshgrid(*[INPS]*(k+1), indexing='ij')"
   ]
  },
  {
   "cell_type": "code",
   "execution_count": 22,
   "id": "9afd24c3",
   "metadata": {},
   "outputs": [],
   "source": [
    "ksat_ps = range(3, 10)\n",
    "\n",
    "# CONST_SQ may affect my convergence.\n",
    "CONST_SQ = 0.5\n",
    "\n",
    "def run_ksat(P):\n",
    "#     xi = lambda x: CONST_SQ* (-1 + (1+x)**P)\n",
    "    xiprime = lambda x: CONST_SQ* P * ((1+x)**(P-1))\n",
    "    xiprimeprime = lambda x:CONST_SQ* P * (P-1) * ((1+x)**(P-2))\n",
    "    opt = minimize(make_test(xiprime, xiprimeprime, k, PDF_INPS), \n",
    "                       [np.random.random()/k for _ in range(2*k)], \n",
    "                       method='Powell', \n",
    "                       options={\"xtol\": 1e-10, \"ftol\":1e-14}\n",
    "                      )\n",
    "    print(\"p:\", P, opt.fun)\n",
    "    return {\"x\": opt.x, \"fun\": opt.fun}"
   ]
  },
  {
   "cell_type": "code",
   "execution_count": 23,
   "id": "e04f8cab",
   "metadata": {},
   "outputs": [
    {
     "name": "stdout",
     "output_type": "stream",
     "text": [
      "kSAT:\n",
      "p: 3 1.5681444028917366\n",
      "p: 4 2.6570658272125645\n",
      "p: 5 4.135420402431401\n"
     ]
    },
    {
     "name": "stderr",
     "output_type": "stream",
     "text": [
      "/tmp/ipykernel_70773/3977490124.py:9: RuntimeWarning: overflow encountered in exp\n",
      "  start = np.log(np.sum(np.exp(ms[i]*start)*PDF_INPS, axis=i))/ms[i]\n",
      "/home/kunal/miniconda3/lib/python3.8/site-packages/scipy/optimize/optimize.py:2149: RuntimeWarning: invalid value encountered in double_scalars\n",
      "  tmp2 = (x - v) * (fx - fw)\n"
     ]
    },
    {
     "name": "stdout",
     "output_type": "stream",
     "text": [
      "p: 6 6.174495466368439\n",
      "p: 7 9.3617669879651\n",
      "p: 8 12.984169021100051\n",
      "p: 9 18.558779309269934\n",
      "CPU times: user 3h 23min 36s, sys: 1h 10min 19s, total: 4h 33min 56s\n",
      "Wall time: 4h 33min 59s\n"
     ]
    }
   ],
   "source": [
    "%%time\n",
    "\n",
    "print(\"kSAT:\")\n",
    "r_ksat = []\n",
    "for P in ksat_ps:\n",
    "    r_ksat.append(run_ksat(P))\n",
    "# pool = multiprocessing.Pool(processes=n_proc)\n",
    "# r_ksat = pool.map(run_ksat, ksat_ps)\n",
    "# pool.close()"
   ]
  },
  {
   "cell_type": "code",
   "execution_count": 31,
   "id": "f4ba9fae",
   "metadata": {},
   "outputs": [
    {
     "data": {
      "text/plain": [
       "<matplotlib.legend.Legend at 0x7f78f8aa3250>"
      ]
     },
     "execution_count": 31,
     "metadata": {},
     "output_type": "execute_result"
    },
    {
     "data": {
      "image/png": "[encoded data removed]",
      "text/plain": [
       "<Figure size 864x576 with 4 Axes>"
      ]
     },
     "metadata": {
      "needs_background": "light"
     },
     "output_type": "display_data"
    }
   ],
   "source": [
    "num_vert_plots = int(np.ceil(len(ksat_ps)/5))\n",
    "fig, axs = plt.subplots(num_vert_plots, 2, figsize=(12, 4*num_vert_plots))\n",
    "\n",
    "for idx in range(len(r_ksat)):\n",
    "    P = ksat_ps[idx]\n",
    "    if idx % 5 == 0:\n",
    "        ax = axs[idx // 10, (idx % 10)//5]\n",
    "        ax.grid()\n",
    "\n",
    "    qs = np.array([0,*[sum(r[idx]['x'][:k][:i+1]) for i in range(k)]])\n",
    "    ms = np.array([0,*[sum(r[idx]['x'][k:][:i+1]) for i in range(k)]])\n",
    "    ax.step(qs, ms, where='post', label=\"p=\" + str(P))\n",
    "    if idx % 5 == 4:\n",
    "        ax.legend()\n",
    "\n",
    "ax.legend()"
   ]
  },
  {
   "cell_type": "markdown",
   "id": "b54273e3",
   "metadata": {},
   "source": [
    "The constants after reducing by CONST_SQ (to help with convergence):"
   ]
  },
  {
   "cell_type": "code",
   "execution_count": 32,
   "id": "ebed04b1",
   "metadata": {},
   "outputs": [],
   "source": [
    "outs = np.array([i['fun'] for i in r_ksat])\n",
    "ksats_scaled = outs * CONST_SQ**-0.5"
   ]
  },
  {
   "cell_type": "code",
   "execution_count": 33,
   "id": "eeff4af1",
   "metadata": {},
   "outputs": [
    {
     "name": "stdout",
     "output_type": "stream",
     "text": [
      "3 2.217691082328953\n",
      "4 3.7576585289620956\n",
      "5 5.84836761923289\n",
      "6 8.732055229349436\n",
      "7 13.239537842156965\n",
      "8 18.362387925784287\n",
      "9 26.246077400258724\n"
     ]
    }
   ],
   "source": [
    "for p,o in zip(ksat_ps, ksats_scaled):\n",
    "    print(p, o)"
   ]
  },
  {
   "cell_type": "markdown",
   "id": "ab6c3e42",
   "metadata": {},
   "source": [
    "I calculate $C$, where the satisfying fraction is $1-1/2^p + C/\\sqrt{\\alpha}$:"
   ]
  },
  {
   "cell_type": "code",
   "execution_count": 34,
   "id": "52f5bdc1",
   "metadata": {},
   "outputs": [
    {
     "name": "stdout",
     "output_type": "stream",
     "text": [
      "3 0.2772113852911191\n",
      "4 0.23485365806013098\n",
      "5 0.18276148810102782\n",
      "6 0.13643836295858494\n",
      "7 0.10343388939185129\n",
      "8 0.07172807783509487\n",
      "9 0.05126186992238032\n"
     ]
    }
   ],
   "source": [
    "for p,o in zip(ksat_ps, ksats_scaled):\n",
    "    print(p, o*2**(-p))"
   ]
  },
  {
   "cell_type": "markdown",
   "id": "46d4ffb4",
   "metadata": {},
   "source": [
    "It would be nice to get a confirmation on this constant, but I haven't seen it calculated anywhere."
   ]
  },
  {
   "cell_type": "code",
   "execution_count": 35,
   "id": "8b09f494",
   "metadata": {},
   "outputs": [
    {
     "name": "stdout",
     "output_type": "stream",
     "text": [
      "Ending time: Sat Sep 11 18:09:43 2021\n"
     ]
    }
   ],
   "source": [
    "print(\"Ending time:\", time.ctime())"
   ]
  }
 ],
 "metadata": {
  "kernelspec": {
   "display_name": "Python 3 (ipykernel)",
   "language": "python",
   "name": "python3"
  },
  "language_info": {
   "codemirror_mode": {
    "name": "ipython",
    "version": 3
   },
   "file_extension": ".py",
   "mimetype": "text/x-python",
   "name": "python",
   "nbconvert_exporter": "python",
   "pygments_lexer": "ipython3",
   "version": "3.8.8"
  }
 },
 "nbformat": 4,
 "nbformat_minor": 5
}
