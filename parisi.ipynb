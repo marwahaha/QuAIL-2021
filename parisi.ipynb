{
 "cells": [
  {
   "cell_type": "code",
   "execution_count": 1,
   "id": "1d8af2c9",
   "metadata": {},
   "outputs": [],
   "source": [
    "import numpy as np\n",
    "from scipy import stats\n",
    "import matplotlib.pyplot as plt\n",
    "from scipy.optimize import minimize\n",
    "from scipy.integrate import quad"
   ]
  },
  {
   "cell_type": "markdown",
   "id": "1b4bee33",
   "metadata": {},
   "source": [
    "# Evaluating the Parisi formula for a pure p-spin glass"
   ]
  },
  {
   "cell_type": "markdown",
   "id": "377e4c4c",
   "metadata": {},
   "source": [
    "The goal here is to calculate the zero-temperature Parisi constant, and compare it to the maximum satisfying fraction of randomXORSAT instances."
   ]
  },
  {
   "cell_type": "markdown",
   "id": "af312f4f",
   "metadata": {},
   "source": [
    "## Using the Parisi formula"
   ]
  },
  {
   "cell_type": "markdown",
   "id": "478a72aa",
   "metadata": {},
   "source": [
    "Wei-Kuo Chen says:\n",
    "> I am not aware of numerical simulations for the Parisi constant P(K) for large K. Nevertheless, this constant can be written as the Parisi formula, which is a convex optimization problem (see Theorem 1 in https://arxiv.org/pdf/1606.05335.pdf). With this, it should be fairly easy to run a numerical simulation to approximate P(K) for large K.\n"
   ]
  },
  {
   "cell_type": "markdown",
   "id": "4e1b1799",
   "metadata": {},
   "source": [
    "Paraphrased from the linked paper:\n",
    "> We introduce the space $U$ that collects all nonnegative and nondecreasing functions $f$ on $[0,1)$ that are right continuous and satisfy $\\int_0^1 f(t)dt < \\infty$. Let's say $f$ has $k$ jumps. Then it has value $m_i$ in region $[q_i,q_{i+1})$, given $q_0 = 0$ and $q_{k+1} = 1$, where $m_i$ and $q_i$ are increasing and nonnegative. The distance metric $d$ is the integral of $f$, or equivalently, $d = \\sum_{i=0}^k m_i(q_{i+1} - q_i)$."
   ]
  },
  {
   "cell_type": "markdown",
   "id": "7135e4b5",
   "metadata": {},
   "source": [
    "$P(f) = \\Psi_f(0, h) - 0.5 \\int_0^1 t \\xi^{''}(t)f(t) dt$"
   ]
  },
  {
   "cell_type": "markdown",
   "id": "33eb1ad8",
   "metadata": {},
   "source": [
    "$\\xi(s) =\\sum_{p\\ge 2} c_p^2 s^p$ Where the $c_p$'s are the mixing constants (mixed vs pure spin glasses)."
   ]
  },
  {
   "cell_type": "markdown",
   "id": "b585c557",
   "metadata": {},
   "source": [
    "$\\partial_t \\Psi_f(t,x) = -0.5\\xi^{''}(t) \n",
    "\\Big(\n",
    "\\partial_x^2 \\Psi_f(t,x) + f(t) (\\partial_x \\Psi_f(t,x))^2\n",
    "\\Big)$"
   ]
  },
  {
   "cell_type": "markdown",
   "id": "37738d2c",
   "metadata": {},
   "source": [
    "With boundary condition: $\\Psi_f(1,x) = |x|$."
   ]
  },
  {
   "cell_type": "markdown",
   "id": "92299d5e",
   "metadata": {},
   "source": [
    "This can be solved recursively, by using the transformation $f(t) \\Psi = \\log \\Phi$ for a piecewise, continuous function $f$."
   ]
  },
  {
   "cell_type": "markdown",
   "id": "7d195dae",
   "metadata": {},
   "source": [
    "This is the coefficient $a_{\\ell} = \\sqrt{ \\xi^{'}(q_{\\ell+1}) - \\xi^{'}(q_{l}) }$"
   ]
  },
  {
   "cell_type": "code",
   "execution_count": 2,
   "id": "4ad7e19b",
   "metadata": {},
   "outputs": [],
   "source": [
    "global k, xi, xiprime, xiprimeprime"
   ]
  },
  {
   "cell_type": "code",
   "execution_count": 3,
   "id": "4e72c9d8",
   "metadata": {},
   "outputs": [],
   "source": [
    "def a(qs, l):\n",
    "    return (xiprime(qs[l+1]) - xiprime(qs[l]))**0.5"
   ]
  },
  {
   "cell_type": "markdown",
   "id": "206fef52",
   "metadata": {},
   "source": [
    "Let $\\Psi_{k+1}(x) = abs(x)$.\n",
    "\n",
    "For $1\\le \\ell \\le k$, let $Exp(m_{\\ell} \\Psi_{\\ell}(x)) = \\mathbb{E}[Exp(m_{\\ell} \\Psi_{\\ell+1}(x + a_{\\ell} z) ]$, for standard Gaussian variable $z$."
   ]
  },
  {
   "cell_type": "markdown",
   "id": "3996e252",
   "metadata": {},
   "source": [
    "Let $\\Psi_0(x) = \\mathbb{E}[\\Psi_{\\ell+1}(x + a_{0} z)]$, since I let $m_0 = 0$."
   ]
  },
  {
   "cell_type": "code",
   "execution_count": 4,
   "id": "dd211f67",
   "metadata": {},
   "outputs": [],
   "source": [
    "def psi(qs, ms, l):\n",
    "    offset = lambda x, z: psi(qs, ms, l+1)(x + a(qs, l)*z)\n",
    "    if l == k+1:\n",
    "        return lambda x: abs(x)\n",
    "    elif l == 0:\n",
    "        return Expectation(offset)\n",
    "    else:\n",
    "        return lambda v: 1/ms[l] * np.log(\n",
    "            Expectation(lambda x, z: np.e**(ms[l]*offset(x,z)))(v)\n",
    "        )"
   ]
  },
  {
   "cell_type": "markdown",
   "id": "2b5b6cd8",
   "metadata": {},
   "source": [
    "This defines the expectation value."
   ]
  },
  {
   "cell_type": "code",
   "execution_count": 5,
   "id": "440e7422",
   "metadata": {},
   "outputs": [],
   "source": [
    "INPS = np.linspace(-20,20, 40001)\n",
    "PDF_INPS = stats.norm.pdf(INPS)/1000\n",
    "assert np.allclose(sum(PDF_INPS),1), sum(PDF_INPS)"
   ]
  },
  {
   "cell_type": "code",
   "execution_count": 6,
   "id": "38d590a4",
   "metadata": {},
   "outputs": [],
   "source": [
    "def Expectation(f):\n",
    "    # f is function of x and z, where z is gaussian\n",
    "    return lambda x: np.sum(f(x,INPS)*PDF_INPS)"
   ]
  },
  {
   "cell_type": "markdown",
   "id": "dd1d9020",
   "metadata": {},
   "source": [
    "The penalty term in the operator is $0.5 \\int_0^1 f(t)  t \\xi^{''}(t) dt = 0.5 \\sum_{i=0}^k \\int_{q_i}^{q_{i+1}} m_i t \\xi^{''}(t) dt$"
   ]
  },
  {
   "cell_type": "code",
   "execution_count": 7,
   "id": "06a954a7",
   "metadata": {},
   "outputs": [],
   "source": [
    "def penalty(qs, ms):\n",
    "    out = 0\n",
    "    for i in range(k+1):\n",
    "        integral = quad(lambda t: t * xiprimeprime(t), qs[i], qs[i+1])[0]\n",
    "        out += ms[i] * integral\n",
    "    return 0.5 * out"
   ]
  },
  {
   "cell_type": "markdown",
   "id": "0b461976",
   "metadata": {},
   "source": [
    "This tests the ground state energy of inputs **m**, **q**:"
   ]
  },
  {
   "cell_type": "code",
   "execution_count": 8,
   "id": "6ec8e642",
   "metadata": {},
   "outputs": [],
   "source": [
    "# the input here is a list of \"adjustments\" \n",
    "# (m_1, m_2-m_1, ...,m_k-m_{k-1}, q_1, q_2-q_1,...,q_k-q_{k-1})\n",
    "def test(inp):\n",
    "    assert len(inp) == 2*k\n",
    "    inp_qs,inp_ms= inp[:k],inp[k:]\n",
    "\n",
    "    # if bad input, return a large number\n",
    "    if np.any(np.array(inp) < 0) or sum(inp_ms) > 1 or sum(inp_qs) > 1:\n",
    "        return 10000\n",
    "\n",
    "    qs = np.array([0,*[sum(inp_qs[:i+1]) for i in range(k)],1])\n",
    "    ms = np.array([0,*[sum(inp_ms[:i+1]) for i in range(k)]])\n",
    "    return psi(qs, ms, 0)(0) - penalty(qs, ms)"
   ]
  },
  {
   "cell_type": "markdown",
   "id": "2914f055",
   "metadata": {},
   "source": [
    "## Evaluating the Parisi formula"
   ]
  },
  {
   "cell_type": "code",
   "execution_count": 9,
   "id": "c937da06",
   "metadata": {},
   "outputs": [
    {
     "name": "stdout",
     "output_type": "stream",
     "text": [
      "kXOR:\n",
      "p: 2 1.883259140501375\n",
      "p: 3 1.9927455249072779\n",
      "p: 4 2.0219816154957764\n",
      "p: 5 2.0321685235139206\n",
      "p: 6 2.0362008561657907\n",
      "p: 7 2.037915913208063\n",
      "p: 8 2.0386779530175447\n",
      "p: 9 2.0390260819660515\n",
      "p: 10 2.0391880458926934\n",
      "p: 11 2.0392643310453185\n",
      "p: 12 2.0393005702436326\n",
      "p: 13 2.0393178919308443\n",
      "p: 14 2.0393262094756732\n",
      "p: 15 2.0393302176125356\n",
      "p: 16 2.039332154595943\n",
      "p: 17 2.0393330928719315\n",
      "p: 18 2.039333548280432\n",
      "p: 19 2.039333769702445\n",
      "p: 20 2.0393338775223278\n",
      "p: 21 2.039333930095335\n",
      "p: 22 2.039333955761009\n",
      "p: 23 2.039333968304522\n",
      "p: 24 2.0393339744409786\n",
      "p: 25 2.039333977445775\n",
      "p: 26 2.0393339789183464\n",
      "p: 27 2.0393339796405563\n",
      "p: 28 2.0393339799950354\n",
      "p: 29 2.0393339801691255\n",
      "p: 30 2.0393339802546677\n",
      "p: 31 2.0393339802967247\n",
      "p: 32 2.0393339803174193\n",
      "p: 33 2.0393339803275907\n",
      "p: 34 2.0393339803326\n",
      "CPU times: user 1min 22s, sys: 5.75 ms, total: 1min 22s\n",
      "Wall time: 1min 22s\n"
     ]
    },
    {
     "data": {
      "image/png": "[encoded data removed]",
      "text/plain": [
       "<Figure size 864x1152 with 8 Axes>"
      ]
     },
     "metadata": {
      "needs_background": "light"
     },
     "output_type": "display_data"
    }
   ],
   "source": [
    "%%time\n",
    "\n",
    "print(\"kXOR:\")\n",
    "\n",
    "# pure p-spin model; p=2 is SK model\n",
    "ps = range(2, 35)\n",
    "# number of jumps\n",
    "k=3\n",
    "# if C_psq is too low, my convergence is not very good.\n",
    "C_psq = 3\n",
    "\n",
    "num_vert_plots = int(np.ceil(len(ps)/10))\n",
    "fig, axs = plt.subplots(num_vert_plots, 2, figsize=(12, 4*num_vert_plots))\n",
    "outs = []\n",
    "for idx in range(len(ps)):\n",
    "    P = ps[idx]\n",
    "    if idx % 5 == 0:\n",
    "        ax = axs[idx // 10, (idx % 10)//5]\n",
    "        ax.grid()\n",
    "    # should xi be different by 1/2 ? I've seen it both ways.\n",
    "    xi = lambda x: x**P * C_psq\n",
    "    xiprime = lambda x: P * (x**(P-1)) * C_psq\n",
    "    xiprimeprime = lambda x: P * (P-1) * (x**(P-2)) * C_psq\n",
    "    \n",
    "    # find best function from minimizer\n",
    "    best = None\n",
    "    for _ in range(4):\n",
    "        opt = minimize(test, \n",
    "                       [np.random.random()/k for _ in range(2*k)], \n",
    "                       method='Powell', \n",
    "                       options={\"xtol\": 1e-10, \"ftol\":1e-14}\n",
    "                      )\n",
    "        if not best or best.fun > opt.fun:\n",
    "            best = opt\n",
    "    print(\"p:\", P, best.fun)\n",
    "    outs.append(best.fun)\n",
    "\n",
    "    qs = np.array([0,*[sum(best.x[:k][:i+1]) for i in range(k)]])\n",
    "    ms = np.array([0,*[sum(best.x[k:][:i+1]) for i in range(k)]])\n",
    "#     print(\"qs:\", qs)\n",
    "#     print(\"ms:\", ms)\n",
    "    ax.step(qs, ms, where='post', label=\"p=\" + str(P))\n",
    "    if idx % 5 == 4:\n",
    "        ax.legend()\n",
    "\n",
    "ax.legend()\n",
    "outs = np.array(outs)"
   ]
  },
  {
   "cell_type": "markdown",
   "id": "a51a5c02",
   "metadata": {},
   "source": [
    "I notice that the locations of the symmetry breaking points are often at very low values.  This may be related to the Auffinger Chen Zeng result that perturbing a solution to this variational near $1$ will reduce the energy. So perhaps perturbations very close to $0$ can also reduce the energy: https://doi.org/10.1002/cpa.21886"
   ]
  },
  {
   "cell_type": "markdown",
   "id": "f97b5c23",
   "metadata": {},
   "source": [
    "## Finding the large-p limit"
   ]
  },
  {
   "cell_type": "markdown",
   "id": "bae869ba",
   "metadata": {},
   "source": [
    "Let's look at the constants after dividing out by $c_p$:"
   ]
  },
  {
   "cell_type": "code",
   "execution_count": 10,
   "id": "16ebcc1d",
   "metadata": {},
   "outputs": [],
   "source": [
    "outs_scaled = np.array(outs)* C_psq**-0.5"
   ]
  },
  {
   "cell_type": "code",
   "execution_count": 11,
   "id": "172f6917",
   "metadata": {},
   "outputs": [
    {
     "name": "stdout",
     "output_type": "stream",
     "text": [
      "2 1.087300171722292\n",
      "3 1.1505121652316388\n",
      "4 1.1673916300029608\n",
      "5 1.1732730440894463\n",
      "6 1.1756011124314656\n",
      "7 1.176591301076497\n",
      "8 1.1770312649656347\n",
      "9 1.1772322573077676\n",
      "10 1.1773257672244135\n",
      "11 1.1773698104778167\n",
      "12 1.1773907331887186\n",
      "13 1.177400733869493\n",
      "14 1.177405536006239\n",
      "15 1.1774078501051355\n",
      "16 1.1774089684230271\n",
      "17 1.1774095101369217\n",
      "18 1.1774097730671418\n",
      "19 1.1774099009052008\n",
      "20 1.1774099631550392\n",
      "21 1.177409993508079\n",
      "22 1.177410008326163\n",
      "23 1.1774100155681635\n",
      "24 1.1774100191110484\n",
      "25 1.1774100208458684\n",
      "26 1.177410021696058\n",
      "27 1.177410022113026\n",
      "28 1.1774100223176844\n",
      "29 1.1774100224181954\n",
      "30 1.1774100224675832\n",
      "31 1.1774100224918649\n",
      "32 1.1774100225038129\n",
      "33 1.1774100225096855\n",
      "34 1.1774100225125776\n"
     ]
    }
   ],
   "source": [
    "for p, x in zip(ps, outs_scaled):\n",
    "    print(p, x)"
   ]
  },
  {
   "cell_type": "code",
   "execution_count": 12,
   "id": "780037d9",
   "metadata": {},
   "outputs": [],
   "source": [
    "guess = (2*np.log(2))**0.5"
   ]
  },
  {
   "cell_type": "code",
   "execution_count": 13,
   "id": "0b564318",
   "metadata": {},
   "outputs": [
    {
     "name": "stdout",
     "output_type": "stream",
     "text": [
      "1.1774100225154747\n"
     ]
    }
   ],
   "source": [
    "print(guess)"
   ]
  },
  {
   "cell_type": "code",
   "execution_count": 14,
   "id": "19804f8f",
   "metadata": {},
   "outputs": [
    {
     "data": {
      "image/png": "[encoded data removed]",
      "text/plain": [
       "<Figure size 432x288 with 1 Axes>"
      ]
     },
     "metadata": {
      "needs_background": "light"
     },
     "output_type": "display_data"
    }
   ],
   "source": [
    "plt.plot(ps, [guess]*len(ps), 'b--', \n",
    "         color='black', label=\"$\\sqrt{2 log 2}$\", alpha=0.7)\n",
    "plt.plot(ps, outs_scaled, 'g.-', ms=7,label=\"pure k-spin model\")\n",
    "plt.xlabel(\"$k$\")\n",
    "plt.ylabel(\"ground state energy density $P(k)$\")\n",
    "plt.title(\"Parisi value for the pure $k$-spin model\")\n",
    "plt.grid()\n",
    "plt.legend()\n",
    "plt.savefig('images/parisi_value.png', dpi=300)"
   ]
  },
  {
   "cell_type": "markdown",
   "id": "99b143ce",
   "metadata": {},
   "source": [
    "## Relationship with $c_{p}$"
   ]
  },
  {
   "cell_type": "markdown",
   "id": "16944ad9",
   "metadata": {},
   "source": [
    "I ran the above several times for different $c_p$. \n",
    "The asymptotic value seems to depend on the constant I use. If $c_p^2 < 2 log(2)$, The energy is $log(2) + c_p^2 / 2$. Otherwise, the energy is $\\sqrt{ 2 c_p^2 log(2)}$."
   ]
  },
  {
   "cell_type": "code",
   "execution_count": 15,
   "id": "75fa4d47",
   "metadata": {},
   "outputs": [
    {
     "data": {
      "text/plain": [
       "Text(0, 0.5, '$energy / C_p$')"
      ]
     },
     "execution_count": 15,
     "metadata": {},
     "output_type": "execute_result"
    },
    {
     "data": {
      "image/png": "[encoded data removed]",
      "text/plain": [
       "<Figure size 432x288 with 1 Axes>"
      ]
     },
     "metadata": {
      "needs_background": "light"
     },
     "output_type": "display_data"
    }
   ],
   "source": [
    "# this is what I observed after running for many different c_p^2\n",
    "inps = np.linspace(1e-10, 5, 100000)\n",
    "f1 = lambda x: x**-0.5 * (np.log(2) + x/2)\n",
    "f2 = lambda x: x**-0.5 * (2 * x * np.log(2))**0.5\n",
    "\n",
    "plt.plot(inps, [f1(i) if i < 2*np.log(2) else f2(i) for i in inps], \n",
    "         label='i observed this scaling',\n",
    "         linewidth=8, alpha=0.3, color='black')\n",
    "plt.plot(inps, f1(inps), label='$log 2/C_p +C_p/2$', linewidth=2)\n",
    "plt.plot(inps, f2(inps), label='$\\sqrt{2 log 2}$', linewidth=2)\n",
    "# plt.plot(inps, inps**0.5, label='sqrt(x) (expected scaling)', linewidth=2)\n",
    "plt.legend()\n",
    "plt.grid()\n",
    "plt.ylim(0,5)\n",
    "plt.xlabel('$C_p^2$')\n",
    "plt.ylabel(\"$energy / C_p$\")"
   ]
  },
  {
   "cell_type": "markdown",
   "id": "30758cb3",
   "metadata": {},
   "source": [
    "The minimum energy should be proportional to $c_p$. I think this means the limit of $P(p)$ is in fact $\\sqrt{2 log 2}$.\n",
    "\n",
    "This ended up being true, because of the relationship to the random energy model."
   ]
  },
  {
   "cell_type": "markdown",
   "id": "762f75c8",
   "metadata": {},
   "source": [
    "## Comparison with Montanari for Max 2XOR, Max 3XOR"
   ]
  },
  {
   "cell_type": "markdown",
   "id": "4b12a83b",
   "metadata": {},
   "source": [
    "This also roughly matches the calculation in https://arxiv.org/pdf/2009.11481.pdf that does Max 2XOR and Max 3XOR. They get\n",
    "$$\n",
    "e_2 = 0.763168\\pm 0.000002\n",
    "$$\n",
    "and \n",
    "$$\n",
    "e_3 = 0.8132\\pm 0.0001\n",
    "$$"
   ]
  },
  {
   "cell_type": "markdown",
   "id": "794bfb3b",
   "metadata": {},
   "source": [
    "Where $e_2$ uses $\\xi(s) = s^2/2$ and $e_3$ uses $\\xi(s) = s^3/2$."
   ]
  },
  {
   "cell_type": "code",
   "execution_count": 23,
   "id": "76d53c4a",
   "metadata": {},
   "outputs": [
    {
     "name": "stdout",
     "output_type": "stream",
     "text": [
      "my result, p: 2 e_p: 0.7688373246101304\n",
      "my result, p: 3 e_p: 0.8135349538729095\n"
     ]
    }
   ],
   "source": [
    "for p, o in list(zip(ps, outs_scaled))[:2]:\n",
    "    print(\"my result, p:\", p, \"e_p:\", o * 2**-0.5)"
   ]
  },
  {
   "cell_type": "markdown",
   "id": "093cfacb",
   "metadata": {},
   "source": [
    "The agreement gives me confidence that my approach is correct."
   ]
  },
  {
   "cell_type": "markdown",
   "id": "4a5b2949",
   "metadata": {},
   "source": [
    "One way to improve my precision is to explicitly solve for the derivative, and use it in the optimization procedure (as the Montanari paper does)."
   ]
  },
  {
   "cell_type": "markdown",
   "id": "d7a30b77",
   "metadata": {},
   "source": [
    "## Using the Parisi constants in Sen's Max XOR upper bound"
   ]
  },
  {
   "cell_type": "markdown",
   "id": "258e60fa",
   "metadata": {},
   "source": [
    "I insert these values for Subhabrata Sen's bounds for Max XOR on hypergraphs, as listed here: https://doi.org/10.1002/rsa.20774\n",
    "\n",
    "The satisfying fraction for Max CUT on p-uniform hypergraphs is to first order in D: $\\frac{1}{2}+ \\frac{P_p \\sqrt{p}}{2}\\frac{1}{\\sqrt{D}}$"
   ]
  },
  {
   "cell_type": "markdown",
   "id": "10587e10",
   "metadata": {},
   "source": [
    "This makes the satisfying fraction $\\frac{1}{2} + \\frac{C_p}{\\sqrt{D}}$, where $C_p$ is listed below:"
   ]
  },
  {
   "cell_type": "code",
   "execution_count": 17,
   "id": "65fe3875",
   "metadata": {},
   "outputs": [
    {
     "name": "stdout",
     "output_type": "stream",
     "text": [
      "2 0.7688373246101304\n",
      "3 0.9963727624536387\n",
      "4 1.1673916300029608\n",
      "5 1.311759141376055\n",
      "6 1.4398114332526841\n",
      "7 1.5564839887051674\n",
      "8 1.6645735782515607\n",
      "9 1.7658483859616514\n",
      "10 1.8615154862171803\n",
      "11 1.9524469504233828\n",
      "12 2.039300570243632\n",
      "13 2.1225893588676934\n",
      "14 2.202724060513138\n",
      "15 2.280040497575534\n",
      "16 2.3548179368460542\n",
      "17 2.427291887450638\n",
      "18 2.49766330431327\n",
      "19 2.5661053865850048\n",
      "20 2.6327687150001906\n",
      "21 2.697785209624118\n",
      "22 2.761271229413435\n",
      "23 2.823330034262959\n",
      "24 2.8840537648626583\n",
      "25 2.943525052114671\n",
      "26 3.0018183380639516\n",
      "27 3.0590009694608344\n",
      "28 3.1151341102076024\n",
      "29 3.1702735081469564\n",
      "30 3.224470143690799\n",
      "31 3.27777078183455\n",
      "32 3.3302184445978065\n",
      "33 3.3818528174843197\n",
      "34 3.4327106008897816\n"
     ]
    }
   ],
   "source": [
    "for p, x in zip(ps, outs_scaled):\n",
    "    print(p, x * p**0.5 / 2)"
   ]
  },
  {
   "cell_type": "markdown",
   "id": "f685877d",
   "metadata": {},
   "source": [
    "Because of the limit, we expect a large $p$XORSAT problem to have satisfying fraction at most\n",
    "\n",
    "$$\\frac{1}{2} + \\frac{\\sqrt{2 log 2}}{2} \\sqrt{\\frac{p}{D}} = \\frac{1}{2} + \\sqrt{\\frac{p log 2}{2}} \\frac{1}{\\sqrt{D}} \\approx \\frac{1}{2} + 0.58871\\sqrt{\\frac{p}{D}}$$"
   ]
  },
  {
   "cell_type": "markdown",
   "id": "50e607b8",
   "metadata": {},
   "source": [
    "## Bonus: Evaluating the $p$-SAT approximations"
   ]
  },
  {
   "cell_type": "markdown",
   "id": "d3ca899e",
   "metadata": {},
   "source": [
    "A similar formula to Sen has been done by Panchenko for $p$-SAT: https://arxiv.org/pdf/1608.06256.pdf"
   ]
  },
  {
   "cell_type": "markdown",
   "id": "a813f67b",
   "metadata": {},
   "source": [
    "Given $N$ variables and $\\alpha N$ clauses, the satisfying fraction is \n",
    "$$1-\\frac{1}{2^p} + \\frac{B_p}{2^p}\\frac{1}{\\sqrt{\\alpha}}$$"
   ]
  },
  {
   "cell_type": "markdown",
   "id": "1d63e42e",
   "metadata": {},
   "source": [
    "Where $B_p$ is the limit of a Parisi formula with $\\xi(x) = (1+x)^p - 1$."
   ]
  },
  {
   "cell_type": "code",
   "execution_count": 18,
   "id": "f052d507",
   "metadata": {},
   "outputs": [
    {
     "name": "stdout",
     "output_type": "stream",
     "text": [
      "kSAT:\n",
      "p: 3 2.226107435645086\n",
      "p: 4 3.7566650783803763\n",
      "p: 5 5.848347563959985\n",
      "p: 6 8.734942217291879\n"
     ]
    },
    {
     "name": "stderr",
     "output_type": "stream",
     "text": [
      "/tmp/ipykernel_97578/3260538208.py:4: IntegrationWarning: Extremely bad integrand behavior occurs at some points of the\n",
      "  integration interval.\n",
      "  integral = quad(lambda t: t * xiprimeprime(t), qs[i], qs[i+1])[0]\n"
     ]
    },
    {
     "name": "stdout",
     "output_type": "stream",
     "text": [
      "p: 7 12.748838841626227\n"
     ]
    },
    {
     "name": "stderr",
     "output_type": "stream",
     "text": [
      "/tmp/ipykernel_97578/19398768.py:9: RuntimeWarning: overflow encountered in power\n",
      "  Expectation(lambda x, z: np.e**(ms[l]*offset(x,z)))(v)\n"
     ]
    },
    {
     "name": "stdout",
     "output_type": "stream",
     "text": [
      "p: 8 18.362685897966173\n"
     ]
    },
    {
     "name": "stderr",
     "output_type": "stream",
     "text": [
      "/tmp/ipykernel_97578/19398768.py:9: RuntimeWarning: overflow encountered in power\n",
      "  Expectation(lambda x, z: np.e**(ms[l]*offset(x,z)))(v)\n"
     ]
    },
    {
     "name": "stdout",
     "output_type": "stream",
     "text": [
      "p: 9 20.018293212544904\n",
      "CPU times: user 1min 38s, sys: 0 ns, total: 1min 38s\n",
      "Wall time: 1min 38s\n"
     ]
    },
    {
     "data": {
      "image/png": "[encoded data removed]",
      "text/plain": [
       "<Figure size 864x288 with 2 Axes>"
      ]
     },
     "metadata": {
      "needs_background": "light"
     },
     "output_type": "display_data"
    }
   ],
   "source": [
    "%%time\n",
    "print(\"kSAT:\")\n",
    "\n",
    "ksat_ps = range(3, 10)\n",
    "# number of jumps\n",
    "k=4\n",
    "\n",
    "# CONST_SQ may affect my convergence.\n",
    "CONST_SQ = 1\n",
    "\n",
    "num_vert_plots = int(np.ceil(len(ksat_ps)/10))\n",
    "fig, axs = plt.subplots(num_vert_plots, 2, figsize=(12, 4*num_vert_plots))\n",
    "outs = []\n",
    "for idx in range(len(ksat_ps)):\n",
    "    P = ksat_ps[idx]\n",
    "    if idx % 5 == 0:\n",
    "        ax = axs[(idx % 10) //5] #axs[idx // 10, (idx % 10)//5]\n",
    "        ax.grid()\n",
    "    # should xi be different by 1/2 ? I've seen it both ways.\n",
    "    xi = lambda x: CONST_SQ* (-1 + (1+x)**P)\n",
    "    xiprime = lambda x: CONST_SQ* P * ((1+x)**(P-1))\n",
    "    xiprimeprime = lambda x:CONST_SQ* P * (P-1) * ((1+x)**(P-2))\n",
    "    \n",
    "    # find best function from minimizer\n",
    "    best = None\n",
    "    for _ in range(10):\n",
    "        opt = minimize(test, \n",
    "                       [np.random.random()/k for _ in range(2*k)],\n",
    "                       method='Powell', \n",
    "                       options={\"ftol\":1e-14}\n",
    "                      )\n",
    "        if not best or best.fun > opt.fun:\n",
    "            best = opt\n",
    "    print(\"p:\", P, best.fun)\n",
    "    outs.append(best.fun)\n",
    "\n",
    "    qs = np.array([0,*[sum(best.x[:k][:i+1]) for i in range(k)]])\n",
    "    ms = np.array([0,*[sum(best.x[k:][:i+1]) for i in range(k)]])\n",
    "#     print(\"qs:\", qs)\n",
    "#     print(\"ms:\", ms)\n",
    "    ax.step(qs, ms, where='post', label=\"p=\" + str(P))\n",
    "    if idx % 5 == 4:\n",
    "        ax.legend()\n",
    "\n",
    "ax.legend()\n",
    "outs = np.array(outs)"
   ]
  },
  {
   "cell_type": "markdown",
   "id": "35dd166c",
   "metadata": {},
   "source": [
    "The constants after reducing by CONST_SQ (to help with convergence):"
   ]
  },
  {
   "cell_type": "code",
   "execution_count": 19,
   "id": "c101a601",
   "metadata": {},
   "outputs": [],
   "source": [
    "ksats_scaled = outs * CONST_SQ**-0.5"
   ]
  },
  {
   "cell_type": "code",
   "execution_count": 20,
   "id": "9609c62f",
   "metadata": {},
   "outputs": [
    {
     "name": "stdout",
     "output_type": "stream",
     "text": [
      "3 2.226107435645086\n",
      "4 3.7566650783803763\n",
      "5 5.848347563959985\n",
      "6 8.734942217291879\n",
      "7 12.748838841626227\n",
      "8 18.362685897966173\n",
      "9 20.018293212544904\n"
     ]
    }
   ],
   "source": [
    "for p,o in zip(ksat_ps, ksats_scaled):\n",
    "    print(p, o)"
   ]
  },
  {
   "cell_type": "markdown",
   "id": "b3c45b4c",
   "metadata": {},
   "source": [
    "I calculate $C$, where the satisfying fraction is $1-1/2^p + C/\\sqrt{\\alpha}$:"
   ]
  },
  {
   "cell_type": "code",
   "execution_count": 21,
   "id": "de71ed21",
   "metadata": {},
   "outputs": [
    {
     "name": "stdout",
     "output_type": "stream",
     "text": [
      "3 0.27826342945563576\n",
      "4 0.23479156739877352\n",
      "5 0.18276086137374953\n",
      "6 0.1364834721451856\n",
      "7 0.0996003034502049\n",
      "8 0.07172924178893036\n",
      "9 0.039098228930751766\n"
     ]
    }
   ],
   "source": [
    "for p,o in zip(ksat_ps, ksats_scaled):\n",
    "    print(p, o*2**(-p))"
   ]
  },
  {
   "cell_type": "markdown",
   "id": "81735199",
   "metadata": {},
   "source": [
    "It would be nice to get a confirmation on this constant, but I haven't seen it calculated anywhere."
   ]
  }
 ],
 "metadata": {
  "kernelspec": {
   "display_name": "Python 3 (ipykernel)",
   "language": "python",
   "name": "python3"
  },
  "language_info": {
   "codemirror_mode": {
    "name": "ipython",
    "version": 3
   },
   "file_extension": ".py",
   "mimetype": "text/x-python",
   "name": "python",
   "nbconvert_exporter": "python",
   "pygments_lexer": "ipython3",
   "version": "3.8.8"
  }
 },
 "nbformat": 4,
 "nbformat_minor": 5
}
