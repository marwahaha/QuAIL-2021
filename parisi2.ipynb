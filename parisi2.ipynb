{
 "cells": [
  {
   "cell_type": "markdown",
   "id": "vertical-keeping",
   "metadata": {},
   "source": [
    "# Evaluating the Parisi formula for a pure p-spin glass\n",
    "\n",
    "[Kunal Marwaha](https://kunalmarwaha.com/about) (June 17 2021)"
   ]
  },
  {
   "cell_type": "markdown",
   "id": "double-small",
   "metadata": {},
   "source": [
    "The goal here is to calculate the zero-temperature Parisi constant, and compare it to the maximum satisfying fraction of random XORSAT instances."
   ]
  },
  {
   "cell_type": "markdown",
   "id": "passive-equation",
   "metadata": {},
   "source": [
    "## Using the Parisi formula"
   ]
  },
  {
   "cell_type": "markdown",
   "id": "short-forth",
   "metadata": {},
   "source": [
    "Wei-Kuo Chen says:\n",
    "> I am not aware of numerical simulations for the Parisi constant P(K) for large K. Nevertheless, this constant can be written as the Parisi formula, which is a convex optimization problem (see Theorem 1 in https://arxiv.org/pdf/1606.05335.pdf). With this, it should be fairly easy to run a numerical simulation to approximate P(K) for large K.\n"
   ]
  },
  {
   "cell_type": "markdown",
   "id": "round-consultation",
   "metadata": {},
   "source": [
    "Paraphrased from the paper above:\n",
    "> We introduce the space $U$ that collects all nonnegative and nondecreasing functions $f$ on $[0,1)$ that are right continuous and satisfy $\\int_0^1 f(t)dt < \\infty$. Let's say $f$ has $k$ jumps. Then it has value $m_i$ in region $[q_i,q_{i+1})$, given $q_0 = 0$ and $q_{k+1} = 1$, where $m_i$ and $q_i$ are increasing and nonnegative. The distance metric $d$ is the integral of $f$, or equivalently, $d = \\sum_{i=0}^k m_i(q_{i+1} - q_i)$."
   ]
  },
  {
   "cell_type": "markdown",
   "id": "biblical-vacation",
   "metadata": {},
   "source": [
    "$P(f) = \\Psi_f(0, h) - 0.5 \\int_0^1 t \\xi^{''}(t)f(t) dt$"
   ]
  },
  {
   "cell_type": "markdown",
   "id": "independent-globe",
   "metadata": {},
   "source": [
    "$\\xi(s) =\\sum_{p\\ge 2} c_p^2 s^p$ Where the $c_p$'s are the mixing constants (mixed vs pure spin glasses)."
   ]
  },
  {
   "cell_type": "markdown",
   "id": "beneficial-minister",
   "metadata": {},
   "source": [
    "$\\partial_t \\Psi_f(t,x) = -0.5\\xi^{''}(t) \n",
    "\\Big(\n",
    "\\partial_x^2 \\Psi_f(t,x) + f(t) (\\partial_x \\Psi_f(t,x))^2\n",
    "\\Big)$"
   ]
  },
  {
   "cell_type": "markdown",
   "id": "enormous-jackson",
   "metadata": {},
   "source": [
    "With boundary condition: $\\Psi_f(1,x) = |x|$."
   ]
  },
  {
   "cell_type": "markdown",
   "id": "decimal-bracket",
   "metadata": {},
   "source": [
    "This can be solved recursively, by using the transformation $f(t) \\Psi = \\log \\Phi$ for a piecewise, continuous function $f$."
   ]
  },
  {
   "cell_type": "code",
   "execution_count": 1,
   "id": "comprehensive-blond",
   "metadata": {},
   "outputs": [],
   "source": [
    "import numpy as np\n",
    "import matplotlib.pyplot as plt\n",
    "from scipy.integrate import quad\n",
    "from scipy.optimize import minimize\n",
    "from scipy import stats\n",
    "import time"
   ]
  },
  {
   "cell_type": "code",
   "execution_count": 2,
   "id": "detected-fireplace",
   "metadata": {},
   "outputs": [
    {
     "name": "stdout",
     "output_type": "stream",
     "text": [
      "Starting time: Tue Jun 22 10:10:31 2021\n"
     ]
    }
   ],
   "source": [
    "print(\"Starting time:\", time.ctime())"
   ]
  },
  {
   "cell_type": "markdown",
   "id": "realistic-camping",
   "metadata": {},
   "source": [
    "This is the coefficient $a_{\\ell} = \\sqrt{ \\xi^{'}(q_{\\ell+1}) - \\xi^{'}(q_{l}) }$"
   ]
  },
  {
   "cell_type": "code",
   "execution_count": 3,
   "id": "intended-alliance",
   "metadata": {},
   "outputs": [],
   "source": [
    "global k, xi, xiprime, xiprimeprime"
   ]
  },
  {
   "cell_type": "code",
   "execution_count": 4,
   "id": "numerical-theater",
   "metadata": {},
   "outputs": [],
   "source": [
    "def a(qs, l):\n",
    "    return (xiprime(qs[l+1]) - xiprime(qs[l]))**0.5"
   ]
  },
  {
   "cell_type": "markdown",
   "id": "protecting-freeware",
   "metadata": {},
   "source": [
    "Let $\\Psi_{k+1}(x) = abs(x)$.\n",
    "\n",
    "For $1\\le \\ell \\le k$, let $Exp(m_{\\ell} \\Psi_{\\ell}(x)) = \\mathbb{E}[Exp(m_{\\ell} \\Psi_{\\ell+1}(x + a_{\\ell} z) ]$, for standard Gaussian variable $z$."
   ]
  },
  {
   "cell_type": "markdown",
   "id": "respective-devices",
   "metadata": {},
   "source": [
    "Let $\\Psi_0(x) = \\mathbb{E}[\\Psi_{\\ell+1}(x + a_{0} z)]$, since I let $m_0 = 0$."
   ]
  },
  {
   "cell_type": "code",
   "execution_count": 5,
   "id": "intelligent-preservation",
   "metadata": {},
   "outputs": [],
   "source": [
    "def psi(qs, ms, l):\n",
    "    offset = lambda x, z: psi(qs, ms, l+1)(x + a(qs, l)*z)\n",
    "    if l == k+1:\n",
    "        return lambda x: abs(x)\n",
    "    elif l == 0:\n",
    "        return Expectation(offset)\n",
    "    else:\n",
    "        return lambda v: 1/ms[l] * np.log(\n",
    "            Expectation(lambda x, z: np.e**(ms[l]*offset(x,z)))(v)\n",
    "        )"
   ]
  },
  {
   "cell_type": "markdown",
   "id": "generous-diagram",
   "metadata": {},
   "source": [
    "This defines the expectation value."
   ]
  },
  {
   "cell_type": "code",
   "execution_count": 6,
   "id": "changing-surfing",
   "metadata": {},
   "outputs": [],
   "source": [
    "INPS = np.linspace(-20,20, 40001)\n",
    "PDF_INPS = stats.norm.pdf(INPS)/1000\n",
    "assert np.allclose(sum(PDF_INPS),1), sum(PDF_INPS)"
   ]
  },
  {
   "cell_type": "code",
   "execution_count": 7,
   "id": "downtown-sculpture",
   "metadata": {},
   "outputs": [],
   "source": [
    "def Expectation(f):\n",
    "    # f is function of x and z, where z is gaussian\n",
    "    return lambda x: np.sum(f(x,INPS)*PDF_INPS)"
   ]
  },
  {
   "cell_type": "markdown",
   "id": "previous-morocco",
   "metadata": {},
   "source": [
    "The penalty term in the operator is $0.5 \\int_0^1 f(t)  t \\xi^{''}(t) dt = 0.5 \\sum_{i=0}^k \\int_{q_i}^{q_{i+1}} m_i t \\xi^{''}(t) dt$"
   ]
  },
  {
   "cell_type": "code",
   "execution_count": 8,
   "id": "medium-industry",
   "metadata": {},
   "outputs": [],
   "source": [
    "def penalty(qs, ms):\n",
    "    out = 0\n",
    "    for i in range(k+1):\n",
    "        integral = quad(lambda t: t * xiprimeprime(t), qs[i], qs[i+1])[0]\n",
    "        out += ms[i] * integral\n",
    "    return 0.5 * out"
   ]
  },
  {
   "cell_type": "markdown",
   "id": "usual-shepherd",
   "metadata": {},
   "source": [
    "This tests the ground state energy of inputs **m**, **q**:"
   ]
  },
  {
   "cell_type": "code",
   "execution_count": 9,
   "id": "sealed-train",
   "metadata": {},
   "outputs": [],
   "source": [
    "# the input here is a list of \"adjustments\" \n",
    "# (m_1, m_2-m_1, ...,m_k-m_{k-1}, q_1, q_2-q_1,...,q_k-q_{k-1})\n",
    "def test(inp):\n",
    "    assert len(inp) == 2*k\n",
    "    inp_qs,inp_ms= inp[:k],inp[k:]\n",
    "\n",
    "    # if bad input, return a large number\n",
    "    if np.any(np.array(inp) < 0) or sum(inp_ms) > 1 or sum(inp_qs) > 1:\n",
    "        return 10000\n",
    "\n",
    "    qs = np.array([0,*[sum(inp_qs[:i+1]) for i in range(k)],1])\n",
    "    ms = np.array([0,*[sum(inp_ms[:i+1]) for i in range(k)]])\n",
    "    return psi(qs, ms, 0)(0) - penalty(qs, ms)"
   ]
  },
  {
   "cell_type": "markdown",
   "id": "administrative-medicine",
   "metadata": {},
   "source": [
    "## Evaluating the Parisi formula"
   ]
  },
  {
   "cell_type": "code",
   "execution_count": 10,
   "id": "horizontal-niagara",
   "metadata": {},
   "outputs": [
    {
     "name": "stdout",
     "output_type": "stream",
     "text": [
      "p: 2 1.8832451707774185\n",
      "p: 3 1.9927455235428086\n",
      "p: 4 2.0219816154957777\n",
      "p: 5 2.0321685235139193\n",
      "p: 6 2.03620085616579\n",
      "p: 7 2.0379159132080646\n",
      "p: 8 2.038677953017542\n",
      "p: 9 2.0390260819660515\n",
      "p: 10 2.0391880458926934\n",
      "p: 11 2.039264331045322\n",
      "p: 12 2.039300570243638\n",
      "p: 13 2.0393178919308443\n",
      "p: 14 2.039326209475675\n",
      "p: 15 2.0393302176125427\n",
      "p: 16 2.0393321545959395\n",
      "p: 17 2.039333092871928\n",
      "p: 18 2.039333548280432\n",
      "p: 19 2.039333769702438\n",
      "p: 20 2.0393338775223278\n",
      "p: 21 2.039333930095328\n",
      "p: 22 2.039333955761009\n",
      "p: 23 2.0393339683045077\n",
      "p: 24 2.039333974440975\n",
      "p: 25 2.039333977445782\n",
      "p: 26 2.03933397891835\n",
      "p: 27 2.039333979640574\n",
      "p: 28 2.039333979995039\n",
      "p: 29 2.039333980169122\n",
      "p: 30 2.0393339802546677\n",
      "p: 31 2.039333980296732\n",
      "p: 32 2.0393339803174193\n",
      "p: 33 2.039333980327598\n",
      "p: 34 2.0393339803326143\n",
      "CPU times: user 1min 58s, sys: 136 ms, total: 1min 58s\n",
      "Wall time: 1min 58s\n"
     ]
    },
    {
     "data": {
      "image/png": "[encoded data removed]",
      "text/plain": [
       "<Figure size 864x1152 with 8 Axes>"
      ]
     },
     "metadata": {
      "needs_background": "light"
     },
     "output_type": "display_data"
    }
   ],
   "source": [
    "%%time\n",
    "\n",
    "# pure p-spin model; p=2 is SK model\n",
    "ps = range(2, 35)\n",
    "# number of jumps\n",
    "k=3\n",
    "# if C_psq is too low, my convergence is not very good.\n",
    "C_psq = 3\n",
    "\n",
    "num_vert_plots = int(np.ceil(len(ps)/10))\n",
    "fig, axs = plt.subplots(num_vert_plots, 2, figsize=(12, 4*num_vert_plots))\n",
    "outs = []\n",
    "for idx in range(len(ps)):\n",
    "    P = ps[idx]\n",
    "    if idx % 5 == 0:\n",
    "        ax = axs[idx // 10, (idx % 10)//5]\n",
    "        ax.grid()\n",
    "    # should xi be different by 1/2 ? I've seen it both ways.\n",
    "    xi = lambda x: x**P * C_psq\n",
    "    xiprime = lambda x: P * (x**(P-1)) * C_psq\n",
    "    xiprimeprime = lambda x: P * (P-1) * (x**(P-2)) * C_psq\n",
    "    \n",
    "    # find best function from minimizer\n",
    "    best = None\n",
    "    for _ in range(4):\n",
    "        opt = minimize(test, \n",
    "                       [np.random.random()/k for _ in range(2*k)], \n",
    "                       method='Powell', \n",
    "                       options={\"xtol\": 1e-10, \"ftol\":1e-14}\n",
    "                      )\n",
    "        if not best or best.fun > opt.fun:\n",
    "            best = opt\n",
    "    print(\"p:\", P, best.fun)\n",
    "    outs.append(best.fun)\n",
    "\n",
    "    qs = np.array([0,*[sum(best.x[:k][:i+1]) for i in range(k)]])\n",
    "    ms = np.array([0,*[sum(best.x[k:][:i+1]) for i in range(k)]])\n",
    "#     print(\"qs:\", qs)\n",
    "#     print(\"ms:\", ms)\n",
    "    ax.step(qs, ms, where='post', label=\"p=\" + str(P))\n",
    "    if idx % 5 == 4:\n",
    "        ax.legend()\n",
    "\n",
    "ax.legend()\n",
    "outs = np.array(outs)"
   ]
  },
  {
   "cell_type": "markdown",
   "id": "choice-record",
   "metadata": {},
   "source": [
    "I notice that the locations of the symmetry breaking points are often at very low values.  This may be related to the Auffinger Chen Zeng result that perturbing a solution to this variational near $1$ will reduce the energy. So perhaps perturbations very close to $0$ can also reduce the energy: https://sci-hubtw.hkvisa.net/10.1002/cpa.21886"
   ]
  },
  {
   "cell_type": "markdown",
   "id": "worst-victim",
   "metadata": {},
   "source": [
    "## Finding the large-p limit"
   ]
  },
  {
   "cell_type": "markdown",
   "id": "fixed-declaration",
   "metadata": {},
   "source": [
    "Let's look at the constants after dividing out by $c_p$:"
   ]
  },
  {
   "cell_type": "code",
   "execution_count": 11,
   "id": "incorporated-income",
   "metadata": {},
   "outputs": [],
   "source": [
    "outs_scaled = np.array(outs)* C_psq**-0.5"
   ]
  },
  {
   "cell_type": "code",
   "execution_count": 12,
   "id": "vietnamese-lover",
   "metadata": {},
   "outputs": [
    {
     "name": "stdout",
     "output_type": "stream",
     "text": [
      "2 1.0872921062984053\n",
      "3 1.1505121644438623\n",
      "4 1.1673916300029616\n",
      "5 1.1732730440894457\n",
      "6 1.1756011124314651\n",
      "7 1.1765913010764981\n",
      "8 1.1770312649656332\n",
      "9 1.1772322573077676\n",
      "10 1.1773257672244135\n",
      "11 1.1773698104778187\n",
      "12 1.1773907331887217\n",
      "13 1.177400733869493\n",
      "14 1.17740553600624\n",
      "15 1.1774078501051395\n",
      "16 1.1774089684230251\n",
      "17 1.1774095101369197\n",
      "18 1.1774097730671418\n",
      "19 1.1774099009051966\n",
      "20 1.1774099631550392\n",
      "21 1.177409993508075\n",
      "22 1.177410008326163\n",
      "23 1.1774100155681553\n",
      "24 1.1774100191110464\n",
      "25 1.1774100208458724\n",
      "26 1.17741002169606\n",
      "27 1.1774100221130361\n",
      "28 1.1774100223176867\n",
      "29 1.1774100224181934\n",
      "30 1.1774100224675832\n",
      "31 1.177410022491869\n",
      "32 1.1774100225038129\n",
      "33 1.1774100225096895\n",
      "34 1.1774100225125856\n"
     ]
    }
   ],
   "source": [
    "for p, x in zip(ps, outs_scaled):\n",
    "    print(p, x)"
   ]
  },
  {
   "cell_type": "code",
   "execution_count": 13,
   "id": "usual-commerce",
   "metadata": {},
   "outputs": [],
   "source": [
    "guess = (2*np.log(2))**0.5"
   ]
  },
  {
   "cell_type": "code",
   "execution_count": 14,
   "id": "solid-winter",
   "metadata": {},
   "outputs": [
    {
     "name": "stdout",
     "output_type": "stream",
     "text": [
      "1.1774100225154747\n"
     ]
    }
   ],
   "source": [
    "print(guess)"
   ]
  },
  {
   "cell_type": "code",
   "execution_count": 15,
   "id": "beautiful-james",
   "metadata": {},
   "outputs": [
    {
     "data": {
      "image/png": "[encoded data removed]",
      "text/plain": [
       "<Figure size 432x288 with 1 Axes>"
      ]
     },
     "metadata": {
      "needs_background": "light"
     },
     "output_type": "display_data"
    }
   ],
   "source": [
    "plt.plot(ps, [guess]*len(ps), 'b--', \n",
    "         color='black', label=\"$\\sqrt{2 log 2}$\", alpha=0.7)\n",
    "plt.plot(ps, outs_scaled, label=\"pure k-spin model\")\n",
    "plt.xlabel(\"k\")\n",
    "plt.ylabel(\"ground state energy\")\n",
    "plt.grid()\n",
    "plt.legend()\n",
    "plt.savefig('images/parisi_value.png', dpi=300)"
   ]
  },
  {
   "cell_type": "markdown",
   "id": "crazy-cursor",
   "metadata": {},
   "source": [
    "## Relationship with $c_p$"
   ]
  },
  {
   "cell_type": "markdown",
   "id": "upset-firewall",
   "metadata": {},
   "source": [
    "I ran the above several times for different $c_p$. \n",
    "The asymptotic value seems to depend on the constant I use. If $c_p^2 < 2 log(2)$, The energy is $log(2) + c_p^2 / 2$. Otherwise, the energy is $\\sqrt{ 2 c_p^2 log(2)}$."
   ]
  },
  {
   "cell_type": "code",
   "execution_count": 16,
   "id": "impaired-oriental",
   "metadata": {},
   "outputs": [
    {
     "data": {
      "text/plain": [
       "Text(0, 0.5, '$energy / C_p$')"
      ]
     },
     "execution_count": 16,
     "metadata": {},
     "output_type": "execute_result"
    },
    {
     "data": {
      "image/png": "[encoded data removed]",
      "text/plain": [
       "<Figure size 432x288 with 1 Axes>"
      ]
     },
     "metadata": {
      "needs_background": "light"
     },
     "output_type": "display_data"
    }
   ],
   "source": [
    "# this is what I observed after running for many different c_p^2\n",
    "inps = np.linspace(1e-10, 5, 100000)\n",
    "f1 = lambda x: x**-0.5 * (np.log(2) + x/2)\n",
    "f2 = lambda x: x**-0.5 * (2 * x * np.log(2))**0.5\n",
    "\n",
    "plt.plot(inps, [f1(i) if i < 2*np.log(2) else f2(i) for i in inps], \n",
    "         label='i observed this scaling',\n",
    "         linewidth=8, alpha=0.3, color='black')\n",
    "plt.plot(inps, f1(inps), label='$log 2/C_p +C_p/2$', linewidth=2)\n",
    "plt.plot(inps, f2(inps), label='$\\sqrt{2 log 2}$', linewidth=2)\n",
    "# plt.plot(inps, inps**0.5, label='sqrt(x) (expected scaling)', linewidth=2)\n",
    "plt.legend()\n",
    "plt.grid()\n",
    "plt.ylim(0,5)\n",
    "plt.xlabel('$C_p^2$')\n",
    "plt.ylabel(\"$energy / C_p$\")"
   ]
  },
  {
   "cell_type": "markdown",
   "id": "separated-particle",
   "metadata": {},
   "source": [
    "The minimum energy should be proportional to $c_p$. I think this means the limit of $P(p)$ is in fact $\\sqrt{2 log 2}$."
   ]
  },
  {
   "cell_type": "markdown",
   "id": "thick-balloon",
   "metadata": {},
   "source": [
    "## Comparison with Montanari for 2,3-XORSAT"
   ]
  },
  {
   "cell_type": "markdown",
   "id": "abandoned-portrait",
   "metadata": {},
   "source": [
    "This also roughly matches the calculation in https://arxiv.org/pdf/2009.11481.pdf that does MAX 2 XOR and MAX 3 XOR. They get\n",
    "$$\n",
    "e_2 = 0.763168\\pm 0.000002\n",
    "$$\n",
    "and \n",
    "$$\n",
    "e_3 = 0.8132\\pm 0.0001\n",
    "$$"
   ]
  },
  {
   "cell_type": "markdown",
   "id": "conservative-sussex",
   "metadata": {},
   "source": [
    "Where $e_2$ uses $\\xi(s) = s^2/2$ and $e_3$ uses $\\xi(s) = s^3/2$."
   ]
  },
  {
   "cell_type": "code",
   "execution_count": 17,
   "id": "nutritional-encoding",
   "metadata": {},
   "outputs": [
    {
     "name": "stdout",
     "output_type": "stream",
     "text": [
      "my result, p: 2 e_p: 0.7688316214942069\n",
      "my result, p: 3 e_p: 0.8135349533158673\n"
     ]
    }
   ],
   "source": [
    "for p, o in list(zip(ps, outs_scaled))[:2]:\n",
    "    print(\"my result, p:\", p, \"e_p:\", o * 2**-0.5)"
   ]
  },
  {
   "cell_type": "markdown",
   "id": "least-fiber",
   "metadata": {},
   "source": [
    "The agreement gives me confidence that my approach is correct."
   ]
  },
  {
   "cell_type": "markdown",
   "id": "professional-grass",
   "metadata": {},
   "source": [
    "One way to improve my precision is to explicitly solve for the derivative, and use it in the optimization procedure (as the Montanari paper does)."
   ]
  },
  {
   "cell_type": "markdown",
   "id": "subtle-regulation",
   "metadata": {},
   "source": [
    "## Using the Parisi constants in Sen's XORSAT upper bound"
   ]
  },
  {
   "cell_type": "markdown",
   "id": "necessary-complex",
   "metadata": {},
   "source": [
    "I insert these values for Subhabrata Sen's bounds for MAX XOR on hypergraphs, as listed here: https://sci-hubtw.hkvisa.net/10.1002/rsa.20774\n",
    "\n",
    "The satisfying fraction for MAX CUT on p-uniform hypergraphs is to first order in D: $\\frac{1}{2}+ \\frac{P_p \\sqrt{p}}{2}\\frac{1}{\\sqrt{D}}$"
   ]
  },
  {
   "cell_type": "markdown",
   "id": "cardiovascular-judgment",
   "metadata": {},
   "source": [
    "This makes the satisfying fraction $\\frac{1}{2} + \\frac{C_p}{\\sqrt{D}}$, where $C_p$ is listed below:"
   ]
  },
  {
   "cell_type": "code",
   "execution_count": 18,
   "id": "wrong-savage",
   "metadata": {},
   "outputs": [
    {
     "name": "stdout",
     "output_type": "stream",
     "text": [
      "2 0.7688316214942069\n",
      "3 0.9963727617714042\n",
      "4 1.1673916300029616\n",
      "5 1.3117591413760543\n",
      "6 1.4398114332526837\n",
      "7 1.5564839887051687\n",
      "8 1.6645735782515585\n",
      "9 1.7658483859616514\n",
      "10 1.8615154862171803\n",
      "11 1.9524469504233861\n",
      "12 2.039300570243638\n",
      "13 2.1225893588676934\n",
      "14 2.20272406051314\n",
      "15 2.280040497575542\n",
      "16 2.3548179368460502\n",
      "17 2.4272918874506337\n",
      "18 2.49766330431327\n",
      "19 2.5661053865849954\n",
      "20 2.6327687150001906\n",
      "21 2.697785209624109\n",
      "22 2.761271229413435\n",
      "23 2.823330034262939\n",
      "24 2.8840537648626534\n",
      "25 2.943525052114681\n",
      "26 3.0018183380639565\n",
      "27 3.059000969460861\n",
      "28 3.1151341102076087\n",
      "29 3.170273508146951\n",
      "30 3.224470143690799\n",
      "31 3.2777707818345614\n",
      "32 3.3302184445978065\n",
      "33 3.3818528174843308\n",
      "34 3.4327106008898047\n"
     ]
    }
   ],
   "source": [
    "for p, x in zip(ps, outs_scaled):\n",
    "    print(p, x * p**0.5 / 2)"
   ]
  },
  {
   "cell_type": "markdown",
   "id": "injured-pittsburgh",
   "metadata": {},
   "source": [
    "Because of the limit, we expect a large $p$ XORSAT problem to have satisfying fraction at most\n",
    "\n",
    "$$\\frac{1}{2} + \\frac{\\sqrt{2 log 2}}{2} \\sqrt{\\frac{p}{D}} = \\frac{1}{2} + \\sqrt{\\frac{p log 2}{2}} \\frac{1}{\\sqrt{D}} \\approx \\frac{1}{2} + 0.58871\\sqrt{\\frac{p}{D}}$$"
   ]
  },
  {
   "cell_type": "markdown",
   "id": "regular-special",
   "metadata": {},
   "source": [
    "## Evaluating the $p$-SAT approximations"
   ]
  },
  {
   "cell_type": "markdown",
   "id": "atmospheric-damage",
   "metadata": {},
   "source": [
    "A similar formula to Sen has been done by Panchenko for $p$-SAT: https://arxiv.org/pdf/1608.06256.pdf"
   ]
  },
  {
   "cell_type": "markdown",
   "id": "recovered-hurricane",
   "metadata": {},
   "source": [
    "Given $N$ variables and $\\alpha N$ clauses, the satisfying fraction is \n",
    "$$1-\\frac{1}{2^p} + \\frac{B_p}{2^p}\\frac{1}{\\sqrt{\\alpha}}$$"
   ]
  },
  {
   "cell_type": "markdown",
   "id": "illegal-horizon",
   "metadata": {},
   "source": [
    "Where $B_p$ is the limit of a Parisi formula with $\\xi(x) = (1+x)^p - 1$."
   ]
  },
  {
   "cell_type": "code",
   "execution_count": 19,
   "id": "overhead-relationship",
   "metadata": {},
   "outputs": [
    {
     "name": "stdout",
     "output_type": "stream",
     "text": [
      "p: 3 2.226106839025143\n",
      "p: 4 3.756649573942785\n",
      "p: 5 5.848331772145793\n",
      "p: 6 8.734937066257139\n",
      "p: 7 12.748863493993825\n"
     ]
    },
    {
     "name": "stderr",
     "output_type": "stream",
     "text": [
      "<ipython-input-5-15554b3564ae>:9: RuntimeWarning: overflow encountered in power\n",
      "  Expectation(lambda x, z: np.e**(ms[l]*offset(x,z)))(v)\n"
     ]
    },
    {
     "name": "stdout",
     "output_type": "stream",
     "text": [
      "p: 8 18.36268766240438\n"
     ]
    },
    {
     "name": "stderr",
     "output_type": "stream",
     "text": [
      "<ipython-input-5-15554b3564ae>:9: RuntimeWarning: overflow encountered in power\n",
      "  Expectation(lambda x, z: np.e**(ms[l]*offset(x,z)))(v)\n"
     ]
    },
    {
     "name": "stdout",
     "output_type": "stream",
     "text": [
      "p: 9 20.017437596556874\n",
      "CPU times: user 2min 26s, sys: 192 ms, total: 2min 26s\n",
      "Wall time: 2min 26s\n"
     ]
    },
    {
     "data": {
      "image/png": "[encoded data removed]",
      "text/plain": [
       "<Figure size 864x288 with 2 Axes>"
      ]
     },
     "metadata": {
      "needs_background": "light"
     },
     "output_type": "display_data"
    }
   ],
   "source": [
    "%%time\n",
    "\n",
    "ps = range(3, 10)\n",
    "# number of jumps\n",
    "k=4\n",
    "\n",
    "# CONST_SQ may affect my convergence.\n",
    "CONST_SQ = 1\n",
    "\n",
    "num_vert_plots = int(np.ceil(len(ps)/10))\n",
    "fig, axs = plt.subplots(num_vert_plots, 2, figsize=(12, 4*num_vert_plots))\n",
    "outs = []\n",
    "for idx in range(len(ps)):\n",
    "    P = ps[idx]\n",
    "    if idx % 5 == 0:\n",
    "        ax = axs[(idx % 10) //5] #axs[idx // 10, (idx % 10)//5]\n",
    "        ax.grid()\n",
    "    # should xi be different by 1/2 ? I've seen it both ways.\n",
    "    xi = lambda x: CONST_SQ* (-1 + (1+x)**P)\n",
    "    xiprime = lambda x: CONST_SQ* P * ((1+x)**(P-1))\n",
    "    xiprimeprime = lambda x:CONST_SQ* P * (P-1) * ((1+x)**(P-2))\n",
    "    \n",
    "    # find best function from minimizer\n",
    "    best = None\n",
    "    for _ in range(10):\n",
    "        opt = minimize(test, \n",
    "                       [np.random.random()/k for _ in range(2*k)],\n",
    "                       method='Powell', \n",
    "                       options={\"ftol\":1e-14}\n",
    "                      )\n",
    "        if not best or best.fun > opt.fun:\n",
    "            best = opt\n",
    "    print(\"p:\", P, best.fun)\n",
    "    outs.append(best.fun)\n",
    "\n",
    "    qs = np.array([0,*[sum(best.x[:k][:i+1]) for i in range(k)]])\n",
    "    ms = np.array([0,*[sum(best.x[k:][:i+1]) for i in range(k)]])\n",
    "#     print(\"qs:\", qs)\n",
    "#     print(\"ms:\", ms)\n",
    "    ax.step(qs, ms, where='post', label=\"p=\" + str(P))\n",
    "    if idx % 5 == 4:\n",
    "        ax.legend()\n",
    "\n",
    "ax.legend()\n",
    "outs = np.array(outs)"
   ]
  },
  {
   "cell_type": "markdown",
   "id": "ruled-money",
   "metadata": {},
   "source": [
    "The constants after reducing by CONST_SQ (to help with convergence):"
   ]
  },
  {
   "cell_type": "code",
   "execution_count": 20,
   "id": "perfect-upset",
   "metadata": {},
   "outputs": [],
   "source": [
    "ksats_scaled = outs * CONST_SQ**-0.5"
   ]
  },
  {
   "cell_type": "code",
   "execution_count": 21,
   "id": "bored-problem",
   "metadata": {},
   "outputs": [
    {
     "name": "stdout",
     "output_type": "stream",
     "text": [
      "3 2.226106839025143\n",
      "4 3.756649573942785\n",
      "5 5.848331772145793\n",
      "6 8.734937066257139\n",
      "7 12.748863493993825\n",
      "8 18.36268766240438\n",
      "9 20.017437596556874\n"
     ]
    }
   ],
   "source": [
    "for p,o in zip(ps, ksats_scaled):\n",
    "    print(p, o)"
   ]
  },
  {
   "cell_type": "markdown",
   "id": "steady-database",
   "metadata": {},
   "source": [
    "I calculate $C$, where the satisfying fraction is $1-1/2^p + C/\\sqrt{\\alpha}$:"
   ]
  },
  {
   "cell_type": "code",
   "execution_count": 22,
   "id": "second-product",
   "metadata": {},
   "outputs": [
    {
     "name": "stdout",
     "output_type": "stream",
     "text": [
      "3 0.27826335487814285\n",
      "4 0.23479059837142408\n",
      "5 0.18276036787955602\n",
      "6 0.1364833916602678\n",
      "7 0.09960049604682676\n",
      "8 0.07172924868126711\n",
      "9 0.039096557805775145\n"
     ]
    }
   ],
   "source": [
    "for p,o in zip(ps, ksats_scaled):\n",
    "    print(p, o*2**(-p))"
   ]
  },
  {
   "cell_type": "markdown",
   "id": "minimal-terror",
   "metadata": {},
   "source": [
    "It would be nice to get a confirmation on this constant, but I haven't seen it calculated anywhere."
   ]
  },
  {
   "cell_type": "code",
   "execution_count": 23,
   "id": "bound-minutes",
   "metadata": {},
   "outputs": [
    {
     "name": "stdout",
     "output_type": "stream",
     "text": [
      "Ending time: Tue Jun 22 10:14:59 2021\n"
     ]
    }
   ],
   "source": [
    "print(\"Ending time:\", time.ctime())"
   ]
  }
 ],
 "metadata": {
  "kernelspec": {
   "display_name": "Python 3",
   "language": "python",
   "name": "python3"
  },
  "language_info": {
   "codemirror_mode": {
    "name": "ipython",
    "version": 3
   },
   "file_extension": ".py",
   "mimetype": "text/x-python",
   "name": "python",
   "nbconvert_exporter": "python",
   "pygments_lexer": "ipython3",
   "version": "3.8.8"
  }
 },
 "nbformat": 4,
 "nbformat_minor": 5
}
