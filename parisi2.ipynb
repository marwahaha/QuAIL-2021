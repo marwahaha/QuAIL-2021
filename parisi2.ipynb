{
 "cells": [
  {
   "cell_type": "markdown",
   "id": "failing-response",
   "metadata": {},
   "source": [
    "The goal here is to calculate the zero-temperature Parisi constant for a pure p-spin glass."
   ]
  },
  {
   "cell_type": "markdown",
   "id": "appointed-montana",
   "metadata": {},
   "source": [
    "Wei-Kuo Chen says:\n",
    "> I am not aware of numerical simulations for the Parisi constant P(K) for large K. Nevertheless, this constant can be written as the Parisi formula, which is a convex optimization problem (see Theorem 1 in https://arxiv.org/pdf/1606.05335.pdf). With this, it should be fairly easy to run a numerical simulation to approximate P(K) for large K.\n"
   ]
  },
  {
   "cell_type": "markdown",
   "id": "discrete-prevention",
   "metadata": {},
   "source": [
    "Paraphrased from the paper above:\n",
    "> We introduce the space $U$ that collects all nonnegative and nondecreasing functions $f$ on $[0,1)$ that are right continuous and satisfy $\\int_0^1 f(t)dt < \\infty$. Let's say $f$ has $k$ jumps. Then it has value $m_i$ in region $[q_i,q_{i+1})$, given $q_0 = 0$ and $q_{k+1} = 1$, where $m_i$ and $q_i$ are increasing and nonnegative. The distance metric $d$ is the integral of $f$, or equivalently, $d = \\sum_{i=0}^k m_i(q_{i+1} - q_i)$."
   ]
  },
  {
   "cell_type": "markdown",
   "id": "exclusive-angola",
   "metadata": {},
   "source": [
    "$P(f) = \\Psi_f(0, h) - 0.5 \\int_0^1 t \\xi^{''}(t)f(t) dt$"
   ]
  },
  {
   "cell_type": "markdown",
   "id": "funny-rubber",
   "metadata": {},
   "source": [
    "$\\xi(s) =\\sum_{p\\ge 2} c_p^2 s^p$ Where the $c_p$'s are the mixing constants (mixed vs pure spin glasses)."
   ]
  },
  {
   "cell_type": "markdown",
   "id": "attempted-might",
   "metadata": {},
   "source": [
    "$\\partial_t \\Psi_f(t,x) = -0.5\\xi^{''}(t) \n",
    "\\Big(\n",
    "\\partial_x^2 \\Psi_f(t,x) + f(t) (\\partial_x \\Psi_f(t,x))^2\n",
    "\\Big)$"
   ]
  },
  {
   "cell_type": "markdown",
   "id": "verbal-bracket",
   "metadata": {},
   "source": [
    "With boundary condition: $\\Psi_f(1,x) = |x|$."
   ]
  },
  {
   "cell_type": "markdown",
   "id": "affecting-truck",
   "metadata": {},
   "source": [
    "This can be solved recursively, by using the transformation $f(t) \\Psi = \\log \\Phi$ for a piecewise, continuous function $f$."
   ]
  },
  {
   "cell_type": "code",
   "execution_count": 1,
   "id": "young-depression",
   "metadata": {},
   "outputs": [],
   "source": [
    "import numpy as np\n",
    "import matplotlib.pyplot as plt\n",
    "from scipy import integrate\n",
    "from scipy.optimize import minimize\n",
    "from scipy import stats"
   ]
  },
  {
   "cell_type": "markdown",
   "id": "mathematical-earth",
   "metadata": {},
   "source": [
    "This is the coefficient $a_{\\ell} = \\sqrt{ \\xi^{'}(q_{\\ell+1}) - \\xi^{'}(q_{l}) }$"
   ]
  },
  {
   "cell_type": "code",
   "execution_count": 2,
   "id": "skilled-finish",
   "metadata": {},
   "outputs": [],
   "source": [
    "global k, xi, xiprime, xiprimeprime"
   ]
  },
  {
   "cell_type": "code",
   "execution_count": 3,
   "id": "secondary-promotion",
   "metadata": {},
   "outputs": [],
   "source": [
    "def a(qs, l):\n",
    "    return (xiprime(qs[l+1]) - xiprime(qs[l]))**0.5"
   ]
  },
  {
   "cell_type": "markdown",
   "id": "systematic-prague",
   "metadata": {},
   "source": [
    "Let $\\Psi_{k+1}(x) = abs(x)$.\n",
    "\n",
    "For $1\\le \\ell \\le k$, let $Exp(m_{\\ell} \\Psi_{\\ell}(x)) = \\mathbb{E}[Exp(m_{\\ell} \\Psi_{\\ell+1}(x + a_{\\ell} z) ]$, for standard Gaussian variable $z$."
   ]
  },
  {
   "cell_type": "markdown",
   "id": "floral-explosion",
   "metadata": {},
   "source": [
    "Let $\\Psi_0(x) = \\mathbb{E}[\\Psi_{\\ell+1}(x + a_{0} z)]$, since I let $m_0 = 0$."
   ]
  },
  {
   "cell_type": "code",
   "execution_count": 4,
   "id": "joint-elephant",
   "metadata": {},
   "outputs": [],
   "source": [
    "def psi(qs, ms, l):\n",
    "    offset = lambda x, z: psi(qs, ms, l+1)(x + a(qs, l)*z)\n",
    "    if l == k+1:\n",
    "        return lambda x: abs(x)\n",
    "    elif l == 0:\n",
    "        return Expectation(offset)\n",
    "    else:\n",
    "        return lambda v: 1/ms[l] * np.log(Expectation(lambda x, z: np.e**(ms[l]*offset(x,z)))(v))"
   ]
  },
  {
   "cell_type": "markdown",
   "id": "falling-imagination",
   "metadata": {},
   "source": [
    "This defines the expectation value."
   ]
  },
  {
   "cell_type": "code",
   "execution_count": 5,
   "id": "forbidden-quantum",
   "metadata": {},
   "outputs": [],
   "source": [
    "INPS = np.linspace(-20,20, 40001)\n",
    "PDF_INPS = stats.norm.pdf(INPS)/1000\n",
    "assert np.allclose(sum(PDF_INPS),1), sum(PDF_INPS)"
   ]
  },
  {
   "cell_type": "code",
   "execution_count": 6,
   "id": "endangered-strip",
   "metadata": {},
   "outputs": [],
   "source": [
    "def Expectation(f):\n",
    "    # f is function of x and z, where z is gaussian\n",
    "    return lambda x: np.sum(f(x,INPS)*PDF_INPS)"
   ]
  },
  {
   "cell_type": "markdown",
   "id": "colored-rider",
   "metadata": {},
   "source": [
    "The penalty term in the operator is $0.5 \\int_0^1 f(t)  t \\xi^{''}(t) dt = 0.5 \\sum_{i=0}^k \\int_{q_i}^{q_{i+1}} m_i t \\xi^{''}(t) dt$"
   ]
  },
  {
   "cell_type": "code",
   "execution_count": 7,
   "id": "north-crack",
   "metadata": {},
   "outputs": [],
   "source": [
    "def penalty(qs, ms):\n",
    "    out = 0\n",
    "    for i in range(k+1):\n",
    "        out += ms[i] * integrate.quad(lambda t: t * xiprimeprime(t), qs[i], qs[i+1])[0]\n",
    "    return 0.5 * out"
   ]
  },
  {
   "cell_type": "markdown",
   "id": "manual-budget",
   "metadata": {},
   "source": [
    "This tests the ground state energy of inputs **m**, **q**:"
   ]
  },
  {
   "cell_type": "code",
   "execution_count": 8,
   "id": "efficient-lesson",
   "metadata": {},
   "outputs": [],
   "source": [
    "# the input here is a list of \"adjustments\" \n",
    "# (m_1, m_2-m_1, ...,m_k-m_{k-1}, q_1, q_2-q_1,...,q_k-q_{k-1})\n",
    "def test(inp):\n",
    "    assert len(inp) == 2*k\n",
    "    inp_qs,inp_ms= inp[:k],inp[k:]\n",
    "\n",
    "    # if bad input, return a large number\n",
    "    if np.any(np.array(inp) < 0) or sum(inp_ms) > 1 or sum(inp_qs) > 1:\n",
    "        return 10000\n",
    "\n",
    "    qs = np.array([0,*[sum(inp_qs[:i+1]) for i in range(k)],1])\n",
    "    ms = np.array([0,*[sum(inp_ms[:i+1]) for i in range(k)]])\n",
    "    return psi(qs, ms, 0)(0) - penalty(qs, ms)"
   ]
  },
  {
   "cell_type": "code",
   "execution_count": 9,
   "id": "british-contest",
   "metadata": {},
   "outputs": [
    {
     "name": "stdout",
     "output_type": "stream",
     "text": [
      "p: 2 1.08729840033861\n",
      "qs: [0.00000000e+00 2.65421356e-12 5.05799731e-12 6.16619355e-12\n",
      " 1.30675105e-11]\n",
      "ms: [0.         0.25761341 0.36120447 0.45287636 0.57786275]\n",
      "p: 3 1.1505121652408838\n",
      "qs: [0.00000000e+00 2.01388132e-12 5.82777881e-12 7.81244644e-12\n",
      " 9.91865513e-12]\n",
      "ms: [0.         0.90805843 0.93678573 0.95131484 0.97832738]\n",
      "p: 4 1.1701342620230228\n",
      "qs: [0.00000000e+00 7.02297802e-12 1.32523059e-11 2.02071832e-11\n",
      " 2.81531745e-11]\n",
      "ms: [0.         0.64903334 0.81003895 0.82111067 1.        ]\n",
      "p: 5 1.1803925191499216\n",
      "qs: [0.00000000e+00 3.63155129e-10 4.45904720e-09 6.90944443e-09\n",
      " 9.76068083e-09]\n",
      "ms: [0.         0.66436243 0.89367166 0.90432909 1.        ]\n",
      "p: 6 1.1859685323386193\n",
      "qs: [0.00000000e+00 9.54623655e-09 1.56949630e-08 3.11495209e-08\n",
      " 3.12136698e-07]\n",
      "ms: [0.         0.72661265 0.80624242 0.86046962 1.        ]\n",
      "p: 7 1.1890633646707425\n",
      "qs: [0.00000000e+00 2.36444476e-07 7.82625984e-07 2.10475380e-06\n",
      " 5.49678913e-06]\n",
      "ms: [0.         0.74904299 0.98324689 0.98499042 1.        ]\n",
      "p: 8 1.1908055719209436\n",
      "qs: [0.00000000e+00 1.19792825e-06 1.24889656e-06 1.28213860e-06\n",
      " 3.32851806e-05]\n",
      "ms: [0.         0.64750691 0.8102489  0.82307573 1.        ]\n",
      "p: 9 1.1917963694858242\n",
      "qs: [0.00000000e+00 6.07495375e-06 7.92869686e-06 9.71791890e-06\n",
      " 1.16132752e-04]\n",
      "ms: [0.         0.74926624 0.81628903 0.8267312  1.        ]\n",
      "p: 10 1.192364172251569\n",
      "qs: [0.00000000e+00 8.62993193e-06 3.85933314e-05 1.95919819e-04\n",
      " 2.04806289e-04]\n",
      "ms: [0.         0.39346455 0.60690283 0.7674535  1.        ]\n",
      "p: 11 1.192691516871884\n",
      "qs: [0.         0.0004216  0.00042315 0.00043412 0.00056262]\n",
      "ms: [0.         0.59488202 0.76218754 0.82221998 1.        ]\n",
      "p: 12 1.1928811421370593\n",
      "qs: [0.         0.00016668 0.00016824 0.00027712 0.00040901]\n",
      "ms: [0.         0.84304884 0.8660528  0.94694699 1.        ]\n",
      "p: 13 1.1929914227617324\n",
      "qs: [0.         0.00089195 0.00167014 0.00179065 0.00197554]\n",
      "ms: [0.         0.62396548 0.74770777 0.77484647 1.        ]\n",
      "p: 14 1.193055770952327\n",
      "qs: [0.         0.00022504 0.00202882 0.00354432 0.00416296]\n",
      "ms: [0.         0.56839102 0.74691739 0.81607322 1.        ]\n",
      "p: 15 1.193093423455509\n",
      "qs: [0.00000000e+00 9.34176329e-05 4.18169365e-04 1.16168717e-03\n",
      " 2.66986571e-03]\n",
      "ms: [0.         0.65539488 0.70076355 0.87711878 1.        ]\n",
      "p: 16 1.193115508771963\n",
      "qs: [0.         0.0006863  0.00078671 0.00336601 0.00370306]\n",
      "ms: [0.         0.53728336 0.57904015 0.75662999 1.        ]\n",
      "p: 17 1.1931284904484905\n",
      "qs: [0.         0.00138577 0.00165872 0.00748025 0.00999474]\n",
      "ms: [0.         0.4998598  0.73532551 0.91464633 1.        ]\n",
      "p: 18 1.193136135233475\n",
      "qs: [0.         0.00023439 0.00029959 0.00232634 0.01350621]\n",
      "ms: [0.         0.53554824 0.70895311 0.93841258 1.        ]\n",
      "p: 19 1.1931406446052488\n",
      "qs: [0.         0.00065134 0.00088914 0.00119941 0.0142309 ]\n",
      "ms: [0.         0.53390163 0.67457831 0.77768931 1.        ]\n",
      "p: 20 1.1931433084375147\n",
      "qs: [0.00000000e+00 3.30948579e-05 1.19749549e-03 2.07952113e-03\n",
      " 1.94215020e-02]\n",
      "ms: [0.         0.58670237 0.81339972 0.87786559 1.        ]\n",
      "p: 21 1.1931448841365988\n",
      "qs: [0.         0.00025676 0.00085377 0.02346214 0.02768002]\n",
      "ms: [0.         0.67121185 0.83093101 0.95203061 1.        ]\n",
      "p: 22 1.1931458173042149\n",
      "qs: [0.         0.00273544 0.00278922 0.00357603 0.03222463]\n",
      "ms: [0.         0.71686496 0.75520723 0.84776954 1.        ]\n",
      "p: 23 1.1931463705510357\n",
      "qs: [0.00000000e+00 3.10321171e-05 6.34917739e-04 7.79796884e-03\n",
      " 2.96619651e-02]\n",
      "ms: [0.         0.57662874 0.73623455 0.95479621 1.        ]\n",
      "p: 24 1.1931466988804011\n",
      "qs: [0.         0.00045874 0.00211682 0.00415079 0.02845175]\n",
      "ms: [0.         0.66732767 0.85025163 0.93392732 1.        ]\n",
      "p: 25 1.1931468939077696\n",
      "qs: [0.         0.00022349 0.00963643 0.00978178 0.01000243]\n",
      "ms: [0.         0.67572695 0.86833535 0.91709564 1.        ]\n",
      "p: 26 1.1931470098508399\n",
      "qs: [0.         0.00266039 0.00341319 0.00425356 0.0542959 ]\n",
      "ms: [0.         0.66727356 0.78733199 0.90259213 1.        ]\n",
      "p: 27 1.193147078832018\n",
      "qs: [0.         0.00179614 0.00324503 0.00341275 0.01768545]\n",
      "ms: [0.         0.58863905 0.73075812 0.91791672 1.        ]\n",
      "p: 28 1.193147119902127\n",
      "qs: [0.         0.00036259 0.00038838 0.00044236 0.05886091]\n",
      "ms: [0.         0.70803884 0.81613329 0.92227115 1.        ]\n",
      "p: 29 1.1931471443706663\n",
      "qs: [0.         0.000249   0.00048879 0.00923436 0.01316969]\n",
      "ms: [0.         0.60055485 0.7456854  0.97649789 1.        ]\n",
      "p: 30 1.193147158957565\n",
      "qs: [0.         0.00141876 0.00193144 0.00355167 0.02429537]\n",
      "ms: [0.         0.74223584 0.83539061 0.99003293 1.        ]\n",
      "p: 31 1.1931471676585375\n",
      "qs: [0.00000000e+00 1.45748329e-05 1.00083449e-03 5.52779564e-03\n",
      " 8.81898887e-02]\n",
      "ms: [0.         0.72480142 0.76911684 0.94998473 1.        ]\n",
      "p: 32 1.1931471728518463\n",
      "qs: [0.         0.0006349  0.00277771 0.00334235 0.09221194]\n",
      "ms: [0.         0.56168918 0.7670522  0.81374789 1.        ]\n",
      "p: 33 1.1931471759523191\n",
      "qs: [0.         0.00089388 0.00093057 0.07228116 0.08362407]\n",
      "ms: [0.         0.74470563 0.80785367 0.96884695 1.        ]\n",
      "p: 34 1.1931471778045868\n",
      "qs: [0.         0.00022137 0.00309737 0.01252046 0.11634306]\n",
      "ms: [0.         0.61903447 0.75273343 0.89287081 1.        ]\n",
      "p: 35 1.1931471789118326\n",
      "qs: [0.         0.00015111 0.00056908 0.00345543 0.1212988 ]\n",
      "ms: [0.         0.8348983  0.91365487 0.96624824 1.        ]\n",
      "p: 36 1.1931471795733515\n",
      "qs: [0.         0.00429564 0.00442515 0.00592236 0.08942074]\n",
      "ms: [0.         0.69113987 0.73910089 0.92606232 1.        ]\n",
      "p: 37 1.1931471799693583\n",
      "qs: [0.         0.00179646 0.00179696 0.0021733  0.11343842]\n",
      "ms: [0.         0.32668629 0.55892148 0.7993513  1.        ]\n",
      "p: 38 1.1931471802062035\n",
      "qs: [0.         0.00095829 0.00110647 0.0102769  0.14382478]\n",
      "ms: [0.         0.50804319 0.73571455 0.85500762 1.        ]\n",
      "p: 39 1.193147180348106\n",
      "qs: [0.         0.00129947 0.0051861  0.01541236 0.05937805]\n",
      "ms: [0.         0.60611974 0.69579353 0.85154293 1.        ]\n",
      "p: 40 1.193147180432966\n",
      "qs: [0.         0.00029879 0.00304046 0.04810568 0.17446909]\n",
      "ms: [0.         0.71106198 0.72443176 0.96500478 1.        ]\n",
      "p: 41 1.1931471804839546\n",
      "qs: [0.         0.01242678 0.10558474 0.12043353 0.15726   ]\n",
      "ms: [0.         0.70768136 0.73686698 0.82840353 1.        ]\n",
      "p: 42 1.1931471805143588\n",
      "qs: [0.         0.00164983 0.00439669 0.01931208 0.11883872]\n",
      "ms: [0.         0.55541101 0.63824061 0.75683505 1.        ]\n",
      "p: 43 1.1931471805325273\n",
      "qs: [0.         0.00118544 0.02671133 0.12365033 0.17041421]\n",
      "ms: [0.         0.76302415 0.81325788 0.87214087 1.        ]\n",
      "p: 44 1.193147180543722\n",
      "qs: [0.         0.00088561 0.00227006 0.17536766 0.17830522]\n",
      "ms: [0.         0.63548086 0.83114695 0.86690832 1.        ]\n",
      "p: 45 1.193147180550035\n",
      "qs: [0.         0.0009454  0.00141045 0.0894706  0.19502112]\n",
      "ms: [0.         0.5391963  0.72987553 0.9349585  1.        ]\n",
      "p: 46 1.1931471805550302\n",
      "qs: [0.         0.05606064 0.05647299 0.1214064  0.16056682]\n",
      "ms: [0.         0.4346732  0.66922761 0.87404857 1.        ]\n",
      "p: 47 1.1931471805566218\n",
      "qs: [0.00000000e+00 1.49369675e-05 7.98276470e-02 1.44047158e-01\n",
      " 1.87831328e-01]\n",
      "ms: [0.         0.71323161 0.91281046 0.97137162 1.        ]\n",
      "p: 48 1.1931471805578973\n",
      "qs: [0.         0.00197885 0.00216356 0.00370658 0.20150127]\n",
      "ms: [0.         0.68996014 0.78049095 0.90554726 1.        ]\n",
      "p: 49 1.1931471805587428\n",
      "qs: [0.         0.00136155 0.00319699 0.00530961 0.22832251]\n",
      "ms: [0.         0.57254035 0.77298445 0.79488335 1.        ]\n",
      "CPU times: user 4min 44s, sys: 247 ms, total: 4min 44s\n",
      "Wall time: 4min 44s\n"
     ]
    },
    {
     "data": {
      "image/png": "[encoded data removed]",
      "text/plain": [
       "<Figure size 864x1440 with 10 Axes>"
      ]
     },
     "metadata": {
      "needs_background": "light"
     },
     "output_type": "display_data"
    }
   ],
   "source": [
    "%%time\n",
    "\n",
    "# pure p-spin model; p=2 is SK model\n",
    "ps = range(2, 50)\n",
    "# number of jumps\n",
    "k=4\n",
    "\n",
    "num_vertical_plots = int(np.ceil(len(ps)/10))\n",
    "fig, axs = plt.subplots(num_vertical_plots, 2, figsize=(12, 4*num_vertical_plots))\n",
    "outs = []\n",
    "for idx in range(len(ps)):\n",
    "    P = ps[idx]\n",
    "    if idx % 5 == 0:\n",
    "        ax = axs[idx // 10, (idx % 10)//5]\n",
    "        ax.grid()\n",
    "    # should xi be different by 1/2 ? I've seen it both ways.\n",
    "    xi = lambda x: x**P\n",
    "    xiprime = lambda x: P * (x**(P-1))\n",
    "    xiprimeprime = lambda x: P * (P-1) * (x**(P-2))\n",
    "    \n",
    "    # find best function from minimizer\n",
    "    best = None\n",
    "    for _ in range(5):\n",
    "        opt = minimize(test, [np.random.random()/k for _ in range(2*k)], method='Powell', options={\"ftol\":1e-14})\n",
    "        if not best or best.fun > opt.fun:\n",
    "            best = opt\n",
    "    print(\"p:\", P, best.fun)\n",
    "    outs.append(best.fun)\n",
    "\n",
    "    qs = np.array([0,*[sum(best.x[:k][:i+1]) for i in range(k)]])\n",
    "    ms = np.array([0,*[sum(best.x[k:][:i+1]) for i in range(k)]])\n",
    "    print(\"qs:\", qs)\n",
    "    print(\"ms:\", ms)\n",
    "    ax.step(qs, ms, where='post', label=\"p=\" + str(P))\n",
    "    if idx % 5 == 4:\n",
    "        ax.legend()\n",
    "\n",
    "ax.legend()\n",
    "outs = np.array(outs)"
   ]
  },
  {
   "cell_type": "markdown",
   "id": "hispanic-assembly",
   "metadata": {},
   "source": [
    "I notice that the locations of the symmetry breaking points are often at very low values.  This may be related to the Auffinger Chen Zeng result that perturbing a solution to this variational near $1$ will reduce the energy. So perhaps perturbations very close to $0$ can also reduce the energy: https://sci-hubtw.hkvisa.net/10.1002/cpa.21886"
   ]
  },
  {
   "cell_type": "markdown",
   "id": "extensive-metallic",
   "metadata": {},
   "source": [
    "These are the values of the constants:"
   ]
  },
  {
   "cell_type": "code",
   "execution_count": 10,
   "id": "abandoned-barcelona",
   "metadata": {},
   "outputs": [
    {
     "name": "stdout",
     "output_type": "stream",
     "text": [
      "2 1.08729840033861\n",
      "3 1.1505121652408838\n",
      "4 1.1701342620230228\n",
      "5 1.1803925191499216\n",
      "6 1.1859685323386193\n",
      "7 1.1890633646707425\n",
      "8 1.1908055719209436\n",
      "9 1.1917963694858242\n",
      "10 1.192364172251569\n",
      "11 1.192691516871884\n",
      "12 1.1928811421370593\n",
      "13 1.1929914227617324\n",
      "14 1.193055770952327\n",
      "15 1.193093423455509\n",
      "16 1.193115508771963\n",
      "17 1.1931284904484905\n",
      "18 1.193136135233475\n",
      "19 1.1931406446052488\n",
      "20 1.1931433084375147\n",
      "21 1.1931448841365988\n",
      "22 1.1931458173042149\n",
      "23 1.1931463705510357\n",
      "24 1.1931466988804011\n",
      "25 1.1931468939077696\n",
      "26 1.1931470098508399\n",
      "27 1.193147078832018\n",
      "28 1.193147119902127\n",
      "29 1.1931471443706663\n",
      "30 1.193147158957565\n",
      "31 1.1931471676585375\n",
      "32 1.1931471728518463\n",
      "33 1.1931471759523191\n",
      "34 1.1931471778045868\n",
      "35 1.1931471789118326\n",
      "36 1.1931471795733515\n",
      "37 1.1931471799693583\n",
      "38 1.1931471802062035\n",
      "39 1.193147180348106\n",
      "40 1.193147180432966\n",
      "41 1.1931471804839546\n",
      "42 1.1931471805143588\n",
      "43 1.1931471805325273\n",
      "44 1.193147180543722\n",
      "45 1.193147180550035\n",
      "46 1.1931471805550302\n",
      "47 1.1931471805566218\n",
      "48 1.1931471805578973\n",
      "49 1.1931471805587428\n"
     ]
    }
   ],
   "source": [
    "for p, x in zip(ps, outs):\n",
    "    print(p, x)"
   ]
  },
  {
   "cell_type": "markdown",
   "id": "transparent-share",
   "metadata": {},
   "source": [
    "The numbers seem to converge -- is there an asymptotic value for large $p$? Perhaps $0.5 + ln(2) \\approx 1.19314718055994$?\n"
   ]
  },
  {
   "cell_type": "code",
   "execution_count": 11,
   "id": "spectacular-american",
   "metadata": {},
   "outputs": [
    {
     "data": {
      "text/plain": [
       "1.1931471805599454"
      ]
     },
     "execution_count": 11,
     "metadata": {},
     "output_type": "execute_result"
    }
   ],
   "source": [
    "np.log(2) + 0.5"
   ]
  },
  {
   "cell_type": "code",
   "execution_count": 12,
   "id": "adjacent-planet",
   "metadata": {},
   "outputs": [
    {
     "data": {
      "text/plain": [
       "<matplotlib.legend.Legend at 0x7fcc33dc7370>"
      ]
     },
     "execution_count": 12,
     "metadata": {},
     "output_type": "execute_result"
    },
    {
     "data": {
      "image/png": "[encoded data removed]",
      "text/plain": [
       "<Figure size 432x288 with 1 Axes>"
      ]
     },
     "metadata": {
      "needs_background": "light"
     },
     "output_type": "display_data"
    }
   ],
   "source": [
    "plt.plot(ps, [np.log(2) + 0.5]*len(ps), 'b--', color='black', label=\"$0.5+ln(2)$\", alpha=0.7)\n",
    "plt.plot(ps, outs, label=\"p-spin model\")\n",
    "plt.xlabel(\"p\")\n",
    "plt.ylabel(\"approx GSE\")\n",
    "plt.grid()\n",
    "plt.legend()"
   ]
  },
  {
   "cell_type": "markdown",
   "id": "separate-sleep",
   "metadata": {},
   "source": [
    "I insert these values for Subrabhata Sen's bounds for MAX XOR on hypergraphs, as listed here: https://sci-hubtw.hkvisa.net/10.1002/rsa.20774\n",
    "\n",
    "The satisfying fraction for MAX CUT on p-uniform hypergraphs is to first order in D: $\\frac{1}{2}+ \\frac{P_p \\sqrt{p}}{2}\\frac{1}{\\sqrt{D}}$"
   ]
  },
  {
   "cell_type": "markdown",
   "id": "initial-frontier",
   "metadata": {},
   "source": [
    "This makes the satisfying fraction $\\frac{1}{2} + \\frac{C_p}{\\sqrt{D}}$, where $C_p$ is listed below:"
   ]
  },
  {
   "cell_type": "code",
   "execution_count": 13,
   "id": "sweet-documentary",
   "metadata": {},
   "outputs": [
    {
     "name": "stdout",
     "output_type": "stream",
     "text": [
      "2 0.7688360720527166\n",
      "3 0.9963727624616452\n",
      "4 1.1701342620230228\n",
      "5 1.3197189564757235\n",
      "6 1.4525088776135338\n",
      "7 1.5729829780082452\n",
      "8 1.6840533899600487\n",
      "9 1.7876945542287364\n",
      "10 1.8852932923481491\n",
      "11 1.977855126051938\n",
      "12 2.066130745572178\n",
      "13 2.1506958729780816\n",
      "14 2.232002969108527\n",
      "15 2.31041547975639\n",
      "16 2.386231017543926\n",
      "17 2.459697395526439\n",
      "18 2.5310239563068992\n",
      "19 2.600389747632629\n",
      "20 2.6679495445652814\n",
      "21 2.7338383733026395\n",
      "22 2.798174972625548\n",
      "23 2.8610644879074076\n",
      "24 2.9226006005431517\n",
      "25 2.982867234769424\n",
      "26 3.0419399429071574\n",
      "27 3.0998870421591658\n",
      "28 3.156770556773993\n",
      "29 3.2126470057989716\n",
      "30 3.2675680669213025\n",
      "31 3.321581139850391\n",
      "32 3.3747298275083937\n",
      "33 3.4270543493990147\n",
      "34 3.4785918986244893\n",
      "35 3.529376951711317\n",
      "36 3.5794415387200544\n",
      "37 3.6288154797242993\n",
      "38 3.6775265926330345\n",
      "39 3.7256008765343074\n",
      "40 3.7730626739760593\n",
      "41 3.8199348150907375\n",
      "42 3.8662387459749974\n",
      "43 3.9119946433931543\n",
      "44 3.957221517533958\n",
      "45 4.00193730430814\n",
      "46 4.04615894847988\n",
      "47 4.08990247866927\n",
      "48 4.13318307526767\n",
      "49 4.1760151319556\n"
     ]
    }
   ],
   "source": [
    "for p, x in zip(ps, outs):\n",
    "    print(p, x*p**0.5 / 2)"
   ]
  },
  {
   "cell_type": "markdown",
   "id": "waiting-flood",
   "metadata": {},
   "source": [
    "The agreement $C_2 \\approx P_* \\approx 0.76$ gives me confidence that this approach is correct.\n",
    "\n",
    "What do you think?"
   ]
  }
 ],
 "metadata": {
  "kernelspec": {
   "display_name": "Python 3",
   "language": "python",
   "name": "python3"
  },
  "language_info": {
   "codemirror_mode": {
    "name": "ipython",
    "version": 3
   },
   "file_extension": ".py",
   "mimetype": "text/x-python",
   "name": "python",
   "nbconvert_exporter": "python",
   "pygments_lexer": "ipython3",
   "version": "3.8.8"
  }
 },
 "nbformat": 4,
 "nbformat_minor": 5
}
